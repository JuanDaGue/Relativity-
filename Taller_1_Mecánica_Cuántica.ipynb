{
  "nbformat": 4,
  "nbformat_minor": 0,
  "metadata": {
    "colab": {
      "name": "Taller 1 Mecánica Cuántica.ipynb",
      "provenance": [],
      "authorship_tag": "ABX9TyNJJbcCZLC1WVgVSuJedVNM",
      "include_colab_link": true
    },
    "kernelspec": {
      "name": "python3",
      "display_name": "Python 3"
    },
    "widgets": {
      "application/vnd.jupyter.widget-state+json": {
        "525e5aa71a27489bbcd06d2a07bf97f2": {
          "model_module": "@jupyter-widgets/controls",
          "model_name": "VBoxModel",
          "model_module_version": "1.5.0",
          "state": {
            "_view_name": "VBoxView",
            "_dom_classes": [
              "widget-interact"
            ],
            "_model_name": "VBoxModel",
            "_view_module": "@jupyter-widgets/controls",
            "_model_module_version": "1.5.0",
            "_view_count": null,
            "_view_module_version": "1.5.0",
            "box_style": "",
            "layout": "IPY_MODEL_33c39b4f1f124fdbbcdecbf8c115078e",
            "_model_module": "@jupyter-widgets/controls",
            "children": [
              "IPY_MODEL_fcc4fc96debb4c7f8ee6aba0302a1886",
              "IPY_MODEL_429e2c0f285a43b7945c316549aa8064"
            ]
          }
        },
        "33c39b4f1f124fdbbcdecbf8c115078e": {
          "model_module": "@jupyter-widgets/base",
          "model_name": "LayoutModel",
          "model_module_version": "1.2.0",
          "state": {
            "_view_name": "LayoutView",
            "grid_template_rows": null,
            "right": null,
            "justify_content": null,
            "_view_module": "@jupyter-widgets/base",
            "overflow": null,
            "_model_module_version": "1.2.0",
            "_view_count": null,
            "flex_flow": null,
            "width": null,
            "min_width": null,
            "border": null,
            "align_items": null,
            "bottom": null,
            "_model_module": "@jupyter-widgets/base",
            "top": null,
            "grid_column": null,
            "overflow_y": null,
            "overflow_x": null,
            "grid_auto_flow": null,
            "grid_area": null,
            "grid_template_columns": null,
            "flex": null,
            "_model_name": "LayoutModel",
            "justify_items": null,
            "grid_row": null,
            "max_height": null,
            "align_content": null,
            "visibility": null,
            "align_self": null,
            "height": null,
            "min_height": null,
            "padding": null,
            "grid_auto_rows": null,
            "grid_gap": null,
            "max_width": null,
            "order": null,
            "_view_module_version": "1.2.0",
            "grid_template_areas": null,
            "object_position": null,
            "object_fit": null,
            "grid_auto_columns": null,
            "margin": null,
            "display": null,
            "left": null
          }
        },
        "fcc4fc96debb4c7f8ee6aba0302a1886": {
          "model_module": "@jupyter-widgets/controls",
          "model_name": "DropdownModel",
          "model_module_version": "1.5.0",
          "state": {
            "_options_labels": [
              "1",
              "5",
              "10",
              "20",
              "40"
            ],
            "_view_name": "DropdownView",
            "style": "IPY_MODEL_ef00c7aa0c37411a89d0c109879f5af2",
            "_dom_classes": [],
            "description": "n",
            "_model_name": "DropdownModel",
            "index": 0,
            "_view_module": "@jupyter-widgets/controls",
            "_model_module_version": "1.5.0",
            "_view_count": null,
            "disabled": false,
            "_view_module_version": "1.5.0",
            "description_tooltip": null,
            "_model_module": "@jupyter-widgets/controls",
            "layout": "IPY_MODEL_db26c355117d4c45b8e6b23c0e6fe949"
          }
        },
        "429e2c0f285a43b7945c316549aa8064": {
          "model_module": "@jupyter-widgets/output",
          "model_name": "OutputModel",
          "model_module_version": "1.0.0",
          "state": {
            "_view_name": "OutputView",
            "msg_id": "",
            "_dom_classes": [],
            "_model_name": "OutputModel",
            "outputs": [
              {
                "output_type": "display_data",
                "data": {
                  "image/png": "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\n",
                  "text/plain": "<Figure size 504x288 with 1 Axes>"
                },
                "metadata": {
                  "needs_background": "light"
                }
              }
            ],
            "_view_module": "@jupyter-widgets/output",
            "_model_module_version": "1.0.0",
            "_view_count": null,
            "_view_module_version": "1.0.0",
            "layout": "IPY_MODEL_4483ca1de4764269a292d09b41b72f4c",
            "_model_module": "@jupyter-widgets/output"
          }
        },
        "ef00c7aa0c37411a89d0c109879f5af2": {
          "model_module": "@jupyter-widgets/controls",
          "model_name": "DescriptionStyleModel",
          "model_module_version": "1.5.0",
          "state": {
            "_view_name": "StyleView",
            "_model_name": "DescriptionStyleModel",
            "description_width": "",
            "_view_module": "@jupyter-widgets/base",
            "_model_module_version": "1.5.0",
            "_view_count": null,
            "_view_module_version": "1.2.0",
            "_model_module": "@jupyter-widgets/controls"
          }
        },
        "db26c355117d4c45b8e6b23c0e6fe949": {
          "model_module": "@jupyter-widgets/base",
          "model_name": "LayoutModel",
          "model_module_version": "1.2.0",
          "state": {
            "_view_name": "LayoutView",
            "grid_template_rows": null,
            "right": null,
            "justify_content": null,
            "_view_module": "@jupyter-widgets/base",
            "overflow": null,
            "_model_module_version": "1.2.0",
            "_view_count": null,
            "flex_flow": null,
            "width": null,
            "min_width": null,
            "border": null,
            "align_items": null,
            "bottom": null,
            "_model_module": "@jupyter-widgets/base",
            "top": null,
            "grid_column": null,
            "overflow_y": null,
            "overflow_x": null,
            "grid_auto_flow": null,
            "grid_area": null,
            "grid_template_columns": null,
            "flex": null,
            "_model_name": "LayoutModel",
            "justify_items": null,
            "grid_row": null,
            "max_height": null,
            "align_content": null,
            "visibility": null,
            "align_self": null,
            "height": null,
            "min_height": null,
            "padding": null,
            "grid_auto_rows": null,
            "grid_gap": null,
            "max_width": null,
            "order": null,
            "_view_module_version": "1.2.0",
            "grid_template_areas": null,
            "object_position": null,
            "object_fit": null,
            "grid_auto_columns": null,
            "margin": null,
            "display": null,
            "left": null
          }
        },
        "4483ca1de4764269a292d09b41b72f4c": {
          "model_module": "@jupyter-widgets/base",
          "model_name": "LayoutModel",
          "model_module_version": "1.2.0",
          "state": {
            "_view_name": "LayoutView",
            "grid_template_rows": null,
            "right": null,
            "justify_content": null,
            "_view_module": "@jupyter-widgets/base",
            "overflow": null,
            "_model_module_version": "1.2.0",
            "_view_count": null,
            "flex_flow": null,
            "width": null,
            "min_width": null,
            "border": null,
            "align_items": null,
            "bottom": null,
            "_model_module": "@jupyter-widgets/base",
            "top": null,
            "grid_column": null,
            "overflow_y": null,
            "overflow_x": null,
            "grid_auto_flow": null,
            "grid_area": null,
            "grid_template_columns": null,
            "flex": null,
            "_model_name": "LayoutModel",
            "justify_items": null,
            "grid_row": null,
            "max_height": null,
            "align_content": null,
            "visibility": null,
            "align_self": null,
            "height": null,
            "min_height": null,
            "padding": null,
            "grid_auto_rows": null,
            "grid_gap": null,
            "max_width": null,
            "order": null,
            "_view_module_version": "1.2.0",
            "grid_template_areas": null,
            "object_position": null,
            "object_fit": null,
            "grid_auto_columns": null,
            "margin": null,
            "display": null,
            "left": null
          }
        },
        "d6d0b622ed414ba58ea699a11bf36bdd": {
          "model_module": "@jupyter-widgets/controls",
          "model_name": "VBoxModel",
          "model_module_version": "1.5.0",
          "state": {
            "_view_name": "VBoxView",
            "_dom_classes": [
              "widget-interact"
            ],
            "_model_name": "VBoxModel",
            "_view_module": "@jupyter-widgets/controls",
            "_model_module_version": "1.5.0",
            "_view_count": null,
            "_view_module_version": "1.5.0",
            "box_style": "",
            "layout": "IPY_MODEL_d4ef053f49584802805a7c711c6e8f96",
            "_model_module": "@jupyter-widgets/controls",
            "children": [
              "IPY_MODEL_5158dbdfa5784cd7b57543c8bbe3ef4e",
              "IPY_MODEL_30dc41e3cf0e418aa582fde0e4b7995a"
            ]
          }
        },
        "d4ef053f49584802805a7c711c6e8f96": {
          "model_module": "@jupyter-widgets/base",
          "model_name": "LayoutModel",
          "model_module_version": "1.2.0",
          "state": {
            "_view_name": "LayoutView",
            "grid_template_rows": null,
            "right": null,
            "justify_content": null,
            "_view_module": "@jupyter-widgets/base",
            "overflow": null,
            "_model_module_version": "1.2.0",
            "_view_count": null,
            "flex_flow": null,
            "width": null,
            "min_width": null,
            "border": null,
            "align_items": null,
            "bottom": null,
            "_model_module": "@jupyter-widgets/base",
            "top": null,
            "grid_column": null,
            "overflow_y": null,
            "overflow_x": null,
            "grid_auto_flow": null,
            "grid_area": null,
            "grid_template_columns": null,
            "flex": null,
            "_model_name": "LayoutModel",
            "justify_items": null,
            "grid_row": null,
            "max_height": null,
            "align_content": null,
            "visibility": null,
            "align_self": null,
            "height": null,
            "min_height": null,
            "padding": null,
            "grid_auto_rows": null,
            "grid_gap": null,
            "max_width": null,
            "order": null,
            "_view_module_version": "1.2.0",
            "grid_template_areas": null,
            "object_position": null,
            "object_fit": null,
            "grid_auto_columns": null,
            "margin": null,
            "display": null,
            "left": null
          }
        },
        "5158dbdfa5784cd7b57543c8bbe3ef4e": {
          "model_module": "@jupyter-widgets/controls",
          "model_name": "DropdownModel",
          "model_module_version": "1.5.0",
          "state": {
            "_options_labels": [
              "1",
              "5",
              "10",
              "20",
              "40"
            ],
            "_view_name": "DropdownView",
            "style": "IPY_MODEL_eea0bcb0af7f4feb9b1986ffc8a4eef9",
            "_dom_classes": [],
            "description": "n",
            "_model_name": "DropdownModel",
            "index": 0,
            "_view_module": "@jupyter-widgets/controls",
            "_model_module_version": "1.5.0",
            "_view_count": null,
            "disabled": false,
            "_view_module_version": "1.5.0",
            "description_tooltip": null,
            "_model_module": "@jupyter-widgets/controls",
            "layout": "IPY_MODEL_1d46c2f45424488488a5a09b6fc0e696"
          }
        },
        "30dc41e3cf0e418aa582fde0e4b7995a": {
          "model_module": "@jupyter-widgets/output",
          "model_name": "OutputModel",
          "model_module_version": "1.0.0",
          "state": {
            "_view_name": "OutputView",
            "msg_id": "",
            "_dom_classes": [],
            "_model_name": "OutputModel",
            "outputs": [
              {
                "output_type": "display_data",
                "data": {
                  "image/png": "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\n",
                  "text/plain": "<Figure size 504x288 with 1 Axes>"
                },
                "metadata": {
                  "needs_background": "light"
                }
              }
            ],
            "_view_module": "@jupyter-widgets/output",
            "_model_module_version": "1.0.0",
            "_view_count": null,
            "_view_module_version": "1.0.0",
            "layout": "IPY_MODEL_49f07c5ca14443e3831a35c436e53ac7",
            "_model_module": "@jupyter-widgets/output"
          }
        },
        "eea0bcb0af7f4feb9b1986ffc8a4eef9": {
          "model_module": "@jupyter-widgets/controls",
          "model_name": "DescriptionStyleModel",
          "model_module_version": "1.5.0",
          "state": {
            "_view_name": "StyleView",
            "_model_name": "DescriptionStyleModel",
            "description_width": "",
            "_view_module": "@jupyter-widgets/base",
            "_model_module_version": "1.5.0",
            "_view_count": null,
            "_view_module_version": "1.2.0",
            "_model_module": "@jupyter-widgets/controls"
          }
        },
        "1d46c2f45424488488a5a09b6fc0e696": {
          "model_module": "@jupyter-widgets/base",
          "model_name": "LayoutModel",
          "model_module_version": "1.2.0",
          "state": {
            "_view_name": "LayoutView",
            "grid_template_rows": null,
            "right": null,
            "justify_content": null,
            "_view_module": "@jupyter-widgets/base",
            "overflow": null,
            "_model_module_version": "1.2.0",
            "_view_count": null,
            "flex_flow": null,
            "width": null,
            "min_width": null,
            "border": null,
            "align_items": null,
            "bottom": null,
            "_model_module": "@jupyter-widgets/base",
            "top": null,
            "grid_column": null,
            "overflow_y": null,
            "overflow_x": null,
            "grid_auto_flow": null,
            "grid_area": null,
            "grid_template_columns": null,
            "flex": null,
            "_model_name": "LayoutModel",
            "justify_items": null,
            "grid_row": null,
            "max_height": null,
            "align_content": null,
            "visibility": null,
            "align_self": null,
            "height": null,
            "min_height": null,
            "padding": null,
            "grid_auto_rows": null,
            "grid_gap": null,
            "max_width": null,
            "order": null,
            "_view_module_version": "1.2.0",
            "grid_template_areas": null,
            "object_position": null,
            "object_fit": null,
            "grid_auto_columns": null,
            "margin": null,
            "display": null,
            "left": null
          }
        },
        "49f07c5ca14443e3831a35c436e53ac7": {
          "model_module": "@jupyter-widgets/base",
          "model_name": "LayoutModel",
          "model_module_version": "1.2.0",
          "state": {
            "_view_name": "LayoutView",
            "grid_template_rows": null,
            "right": null,
            "justify_content": null,
            "_view_module": "@jupyter-widgets/base",
            "overflow": null,
            "_model_module_version": "1.2.0",
            "_view_count": null,
            "flex_flow": null,
            "width": null,
            "min_width": null,
            "border": null,
            "align_items": null,
            "bottom": null,
            "_model_module": "@jupyter-widgets/base",
            "top": null,
            "grid_column": null,
            "overflow_y": null,
            "overflow_x": null,
            "grid_auto_flow": null,
            "grid_area": null,
            "grid_template_columns": null,
            "flex": null,
            "_model_name": "LayoutModel",
            "justify_items": null,
            "grid_row": null,
            "max_height": null,
            "align_content": null,
            "visibility": null,
            "align_self": null,
            "height": null,
            "min_height": null,
            "padding": null,
            "grid_auto_rows": null,
            "grid_gap": null,
            "max_width": null,
            "order": null,
            "_view_module_version": "1.2.0",
            "grid_template_areas": null,
            "object_position": null,
            "object_fit": null,
            "grid_auto_columns": null,
            "margin": null,
            "display": null,
            "left": null
          }
        },
        "b6321684d17148798c6f327a2790380a": {
          "model_module": "@jupyter-widgets/controls",
          "model_name": "VBoxModel",
          "model_module_version": "1.5.0",
          "state": {
            "_view_name": "VBoxView",
            "_dom_classes": [
              "widget-interact"
            ],
            "_model_name": "VBoxModel",
            "_view_module": "@jupyter-widgets/controls",
            "_model_module_version": "1.5.0",
            "_view_count": null,
            "_view_module_version": "1.5.0",
            "box_style": "",
            "layout": "IPY_MODEL_46d05a013dd34c6889fb619782d633c8",
            "_model_module": "@jupyter-widgets/controls",
            "children": [
              "IPY_MODEL_70ac49428a584c79859090aa6d976a03",
              "IPY_MODEL_1a27fb5d26094c34a7d05c6e811d5c58"
            ]
          }
        },
        "46d05a013dd34c6889fb619782d633c8": {
          "model_module": "@jupyter-widgets/base",
          "model_name": "LayoutModel",
          "model_module_version": "1.2.0",
          "state": {
            "_view_name": "LayoutView",
            "grid_template_rows": null,
            "right": null,
            "justify_content": null,
            "_view_module": "@jupyter-widgets/base",
            "overflow": null,
            "_model_module_version": "1.2.0",
            "_view_count": null,
            "flex_flow": null,
            "width": null,
            "min_width": null,
            "border": null,
            "align_items": null,
            "bottom": null,
            "_model_module": "@jupyter-widgets/base",
            "top": null,
            "grid_column": null,
            "overflow_y": null,
            "overflow_x": null,
            "grid_auto_flow": null,
            "grid_area": null,
            "grid_template_columns": null,
            "flex": null,
            "_model_name": "LayoutModel",
            "justify_items": null,
            "grid_row": null,
            "max_height": null,
            "align_content": null,
            "visibility": null,
            "align_self": null,
            "height": null,
            "min_height": null,
            "padding": null,
            "grid_auto_rows": null,
            "grid_gap": null,
            "max_width": null,
            "order": null,
            "_view_module_version": "1.2.0",
            "grid_template_areas": null,
            "object_position": null,
            "object_fit": null,
            "grid_auto_columns": null,
            "margin": null,
            "display": null,
            "left": null
          }
        },
        "70ac49428a584c79859090aa6d976a03": {
          "model_module": "@jupyter-widgets/controls",
          "model_name": "IntSliderModel",
          "model_module_version": "1.5.0",
          "state": {
            "_view_name": "IntSliderView",
            "style": "IPY_MODEL_894a4b4662ee4ac6a18cc577c573b420",
            "_dom_classes": [],
            "description": "n",
            "step": 1,
            "_model_name": "IntSliderModel",
            "orientation": "horizontal",
            "max": 200,
            "_view_module": "@jupyter-widgets/controls",
            "_model_module_version": "1.5.0",
            "value": 188,
            "_view_count": null,
            "disabled": false,
            "_view_module_version": "1.5.0",
            "min": 1,
            "continuous_update": true,
            "readout_format": "d",
            "description_tooltip": null,
            "readout": true,
            "_model_module": "@jupyter-widgets/controls",
            "layout": "IPY_MODEL_482a18701b8043008900bfb7c978dc92"
          }
        },
        "1a27fb5d26094c34a7d05c6e811d5c58": {
          "model_module": "@jupyter-widgets/output",
          "model_name": "OutputModel",
          "model_module_version": "1.0.0",
          "state": {
            "_view_name": "OutputView",
            "msg_id": "",
            "_dom_classes": [],
            "_model_name": "OutputModel",
            "outputs": [
              {
                "output_type": "display_data",
                "data": {
                  "image/png": "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\n",
                  "text/plain": "<Figure size 504x288 with 1 Axes>"
                },
                "metadata": {
                  "needs_background": "light"
                }
              }
            ],
            "_view_module": "@jupyter-widgets/output",
            "_model_module_version": "1.0.0",
            "_view_count": null,
            "_view_module_version": "1.0.0",
            "layout": "IPY_MODEL_b20840dd8ede46b6b120f7952518a252",
            "_model_module": "@jupyter-widgets/output"
          }
        },
        "894a4b4662ee4ac6a18cc577c573b420": {
          "model_module": "@jupyter-widgets/controls",
          "model_name": "SliderStyleModel",
          "model_module_version": "1.5.0",
          "state": {
            "_view_name": "StyleView",
            "handle_color": null,
            "_model_name": "SliderStyleModel",
            "description_width": "",
            "_view_module": "@jupyter-widgets/base",
            "_model_module_version": "1.5.0",
            "_view_count": null,
            "_view_module_version": "1.2.0",
            "_model_module": "@jupyter-widgets/controls"
          }
        },
        "482a18701b8043008900bfb7c978dc92": {
          "model_module": "@jupyter-widgets/base",
          "model_name": "LayoutModel",
          "model_module_version": "1.2.0",
          "state": {
            "_view_name": "LayoutView",
            "grid_template_rows": null,
            "right": null,
            "justify_content": null,
            "_view_module": "@jupyter-widgets/base",
            "overflow": null,
            "_model_module_version": "1.2.0",
            "_view_count": null,
            "flex_flow": null,
            "width": null,
            "min_width": null,
            "border": null,
            "align_items": null,
            "bottom": null,
            "_model_module": "@jupyter-widgets/base",
            "top": null,
            "grid_column": null,
            "overflow_y": null,
            "overflow_x": null,
            "grid_auto_flow": null,
            "grid_area": null,
            "grid_template_columns": null,
            "flex": null,
            "_model_name": "LayoutModel",
            "justify_items": null,
            "grid_row": null,
            "max_height": null,
            "align_content": null,
            "visibility": null,
            "align_self": null,
            "height": null,
            "min_height": null,
            "padding": null,
            "grid_auto_rows": null,
            "grid_gap": null,
            "max_width": null,
            "order": null,
            "_view_module_version": "1.2.0",
            "grid_template_areas": null,
            "object_position": null,
            "object_fit": null,
            "grid_auto_columns": null,
            "margin": null,
            "display": null,
            "left": null
          }
        },
        "b20840dd8ede46b6b120f7952518a252": {
          "model_module": "@jupyter-widgets/base",
          "model_name": "LayoutModel",
          "model_module_version": "1.2.0",
          "state": {
            "_view_name": "LayoutView",
            "grid_template_rows": null,
            "right": null,
            "justify_content": null,
            "_view_module": "@jupyter-widgets/base",
            "overflow": null,
            "_model_module_version": "1.2.0",
            "_view_count": null,
            "flex_flow": null,
            "width": null,
            "min_width": null,
            "border": null,
            "align_items": null,
            "bottom": null,
            "_model_module": "@jupyter-widgets/base",
            "top": null,
            "grid_column": null,
            "overflow_y": null,
            "overflow_x": null,
            "grid_auto_flow": null,
            "grid_area": null,
            "grid_template_columns": null,
            "flex": null,
            "_model_name": "LayoutModel",
            "justify_items": null,
            "grid_row": null,
            "max_height": null,
            "align_content": null,
            "visibility": null,
            "align_self": null,
            "height": null,
            "min_height": null,
            "padding": null,
            "grid_auto_rows": null,
            "grid_gap": null,
            "max_width": null,
            "order": null,
            "_view_module_version": "1.2.0",
            "grid_template_areas": null,
            "object_position": null,
            "object_fit": null,
            "grid_auto_columns": null,
            "margin": null,
            "display": null,
            "left": null
          }
        },
        "b30623943c2c4afaaddad95b7eb3f4b5": {
          "model_module": "@jupyter-widgets/controls",
          "model_name": "VBoxModel",
          "model_module_version": "1.5.0",
          "state": {
            "_view_name": "VBoxView",
            "_dom_classes": [
              "widget-interact"
            ],
            "_model_name": "VBoxModel",
            "_view_module": "@jupyter-widgets/controls",
            "_model_module_version": "1.5.0",
            "_view_count": null,
            "_view_module_version": "1.5.0",
            "box_style": "",
            "layout": "IPY_MODEL_35c772f4d97240619b096d7eff48b17a",
            "_model_module": "@jupyter-widgets/controls",
            "children": [
              "IPY_MODEL_b9255e1740d84b17a5f738eb1bb4a3aa",
              "IPY_MODEL_5de6ca8ea30e45b3ab2c6cc4a2eccf02"
            ]
          }
        },
        "35c772f4d97240619b096d7eff48b17a": {
          "model_module": "@jupyter-widgets/base",
          "model_name": "LayoutModel",
          "model_module_version": "1.2.0",
          "state": {
            "_view_name": "LayoutView",
            "grid_template_rows": null,
            "right": null,
            "justify_content": null,
            "_view_module": "@jupyter-widgets/base",
            "overflow": null,
            "_model_module_version": "1.2.0",
            "_view_count": null,
            "flex_flow": null,
            "width": null,
            "min_width": null,
            "border": null,
            "align_items": null,
            "bottom": null,
            "_model_module": "@jupyter-widgets/base",
            "top": null,
            "grid_column": null,
            "overflow_y": null,
            "overflow_x": null,
            "grid_auto_flow": null,
            "grid_area": null,
            "grid_template_columns": null,
            "flex": null,
            "_model_name": "LayoutModel",
            "justify_items": null,
            "grid_row": null,
            "max_height": null,
            "align_content": null,
            "visibility": null,
            "align_self": null,
            "height": null,
            "min_height": null,
            "padding": null,
            "grid_auto_rows": null,
            "grid_gap": null,
            "max_width": null,
            "order": null,
            "_view_module_version": "1.2.0",
            "grid_template_areas": null,
            "object_position": null,
            "object_fit": null,
            "grid_auto_columns": null,
            "margin": null,
            "display": null,
            "left": null
          }
        },
        "b9255e1740d84b17a5f738eb1bb4a3aa": {
          "model_module": "@jupyter-widgets/controls",
          "model_name": "IntSliderModel",
          "model_module_version": "1.5.0",
          "state": {
            "_view_name": "IntSliderView",
            "style": "IPY_MODEL_5b8e77dde3174263928ca5b0cef0d1c4",
            "_dom_classes": [],
            "description": "xp",
            "step": 1,
            "_model_name": "IntSliderModel",
            "orientation": "horizontal",
            "max": 50,
            "_view_module": "@jupyter-widgets/controls",
            "_model_module_version": "1.5.0",
            "value": 30,
            "_view_count": null,
            "disabled": false,
            "_view_module_version": "1.5.0",
            "min": 1,
            "continuous_update": true,
            "readout_format": "d",
            "description_tooltip": null,
            "readout": true,
            "_model_module": "@jupyter-widgets/controls",
            "layout": "IPY_MODEL_39a10ff9c05d4f20863f1139f62526f2"
          }
        },
        "5de6ca8ea30e45b3ab2c6cc4a2eccf02": {
          "model_module": "@jupyter-widgets/output",
          "model_name": "OutputModel",
          "model_module_version": "1.0.0",
          "state": {
            "_view_name": "OutputView",
            "msg_id": "",
            "_dom_classes": [],
            "_model_name": "OutputModel",
            "outputs": [
              {
                "output_type": "display_data",
                "data": {
                  "image/png": "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\n",
                  "text/plain": "<Figure size 504x288 with 1 Axes>"
                },
                "metadata": {
                  "needs_background": "light"
                }
              }
            ],
            "_view_module": "@jupyter-widgets/output",
            "_model_module_version": "1.0.0",
            "_view_count": null,
            "_view_module_version": "1.0.0",
            "layout": "IPY_MODEL_cb86bee832754746ae78d873a787aa52",
            "_model_module": "@jupyter-widgets/output"
          }
        },
        "5b8e77dde3174263928ca5b0cef0d1c4": {
          "model_module": "@jupyter-widgets/controls",
          "model_name": "SliderStyleModel",
          "model_module_version": "1.5.0",
          "state": {
            "_view_name": "StyleView",
            "handle_color": null,
            "_model_name": "SliderStyleModel",
            "description_width": "",
            "_view_module": "@jupyter-widgets/base",
            "_model_module_version": "1.5.0",
            "_view_count": null,
            "_view_module_version": "1.2.0",
            "_model_module": "@jupyter-widgets/controls"
          }
        },
        "39a10ff9c05d4f20863f1139f62526f2": {
          "model_module": "@jupyter-widgets/base",
          "model_name": "LayoutModel",
          "model_module_version": "1.2.0",
          "state": {
            "_view_name": "LayoutView",
            "grid_template_rows": null,
            "right": null,
            "justify_content": null,
            "_view_module": "@jupyter-widgets/base",
            "overflow": null,
            "_model_module_version": "1.2.0",
            "_view_count": null,
            "flex_flow": null,
            "width": null,
            "min_width": null,
            "border": null,
            "align_items": null,
            "bottom": null,
            "_model_module": "@jupyter-widgets/base",
            "top": null,
            "grid_column": null,
            "overflow_y": null,
            "overflow_x": null,
            "grid_auto_flow": null,
            "grid_area": null,
            "grid_template_columns": null,
            "flex": null,
            "_model_name": "LayoutModel",
            "justify_items": null,
            "grid_row": null,
            "max_height": null,
            "align_content": null,
            "visibility": null,
            "align_self": null,
            "height": null,
            "min_height": null,
            "padding": null,
            "grid_auto_rows": null,
            "grid_gap": null,
            "max_width": null,
            "order": null,
            "_view_module_version": "1.2.0",
            "grid_template_areas": null,
            "object_position": null,
            "object_fit": null,
            "grid_auto_columns": null,
            "margin": null,
            "display": null,
            "left": null
          }
        },
        "cb86bee832754746ae78d873a787aa52": {
          "model_module": "@jupyter-widgets/base",
          "model_name": "LayoutModel",
          "model_module_version": "1.2.0",
          "state": {
            "_view_name": "LayoutView",
            "grid_template_rows": null,
            "right": null,
            "justify_content": null,
            "_view_module": "@jupyter-widgets/base",
            "overflow": null,
            "_model_module_version": "1.2.0",
            "_view_count": null,
            "flex_flow": null,
            "width": null,
            "min_width": null,
            "border": null,
            "align_items": null,
            "bottom": null,
            "_model_module": "@jupyter-widgets/base",
            "top": null,
            "grid_column": null,
            "overflow_y": null,
            "overflow_x": null,
            "grid_auto_flow": null,
            "grid_area": null,
            "grid_template_columns": null,
            "flex": null,
            "_model_name": "LayoutModel",
            "justify_items": null,
            "grid_row": null,
            "max_height": null,
            "align_content": null,
            "visibility": null,
            "align_self": null,
            "height": null,
            "min_height": null,
            "padding": null,
            "grid_auto_rows": null,
            "grid_gap": null,
            "max_width": null,
            "order": null,
            "_view_module_version": "1.2.0",
            "grid_template_areas": null,
            "object_position": null,
            "object_fit": null,
            "grid_auto_columns": null,
            "margin": null,
            "display": null,
            "left": null
          }
        }
      }
    }
  },
  "cells": [
    {
      "cell_type": "markdown",
      "metadata": {
        "id": "view-in-github",
        "colab_type": "text"
      },
      "source": [
        "<a href=\"https://colab.research.google.com/github/JuanDaGue/Rlativity-/blob/main/Taller_1_Mec%C3%A1nica_Cu%C3%A1ntica.ipynb\" target=\"_parent\"><img src=\"https://colab.research.google.com/assets/colab-badge.svg\" alt=\"Open In Colab\"/></a>"
      ]
    },
    {
      "cell_type": "code",
      "metadata": {
        "id": "kfBghFXu3K7l"
      },
      "source": [
        "import numpy as np\n",
        "import matplotlib.pylab as plt\n",
        "from ipywidgets import *"
      ],
      "execution_count": 1,
      "outputs": []
    },
    {
      "cell_type": "markdown",
      "metadata": {
        "id": "LrvKATXT3MSG"
      },
      "source": [
        "#Taller N°1 Mecánica Cuántica \n",
        "\n",
        "<Center>\n",
        "\n",
        "##Juan David Guerrero U $\\qquad$ CC. 1059705736\n"
      ]
    },
    {
      "cell_type": "markdown",
      "metadata": {
        "id": "mHEt-cTI3roD"
      },
      "source": [
        "Sea una función de onda arbitraria \t(x) definida como\n",
        "\t$$\\Psi(x) =\\left\\{ \\begin{array}{lcc}\n",
        "             x &   si  & 0 \\leq x \\leq \\frac{L}{2} \\\\\n",
        "             \\\\ L-x &  si & \\frac{L}{2} \\leq x \\leq L \\\\\n",
        "             \\end{array}\n",
        "   \\right.$$\n",
        "\n",
        "Determine su normalización. Desarrolle dicha función en la base de autofunciones. Dibuje\n",
        "y compare la función \t$\\Psi(x)$ y las sucesivas aproximaciones a la función con $5$, $10$,\n",
        "$20$ y $40$ términos en el desarrollo. Analice si este estado es estacionario o no, es decir, si\n",
        "este estado se prepara en $t = 0$, su densidad de probabilidad permanecerá invariante o\n",
        "no en función del tiempo. Si no, determine cómo es la evolución temporal aprovechando\n",
        "que sabe expandir la función en términos de las autofunciones exactas."
      ]
    },
    {
      "cell_type": "code",
      "metadata": {
        "id": "IwnkG9EU5CGh"
      },
      "source": [
        "######### Función Psi ##############\n",
        "def psi(x):\n",
        "  y=np.zeros(len(x))\n",
        "  for i in range(len(x)):\n",
        "    if x[i]>=0 and x[i]<=L/2:\n",
        "      y[i]=x[i]\n",
        "    if x[i]>=L/2 and x[i]<=L:\n",
        "      y[i]= L-x[i]\n",
        "  return y/(L**1.5/(2*3**0.5))"
      ],
      "execution_count": 2,
      "outputs": []
    },
    {
      "cell_type": "code",
      "metadata": {
        "id": "IdEtVZ5J5wFc"
      },
      "source": [
        "############## Datos ######################\n",
        "z=np.linspace(-100,100,1000)\n",
        "L=50\n",
        "N=([1,5,10,20,40])\n",
        "Col=np.array(['k','darkblue','darkred', 'g','y'])"
      ],
      "execution_count": 3,
      "outputs": []
    },
    {
      "cell_type": "code",
      "metadata": {
        "id": "BePI-uW-9h8c",
        "colab": {
          "base_uri": "https://localhost:8080/",
          "height": 335,
          "referenced_widgets": [
            "525e5aa71a27489bbcd06d2a07bf97f2",
            "33c39b4f1f124fdbbcdecbf8c115078e",
            "fcc4fc96debb4c7f8ee6aba0302a1886",
            "429e2c0f285a43b7945c316549aa8064",
            "ef00c7aa0c37411a89d0c109879f5af2",
            "db26c355117d4c45b8e6b23c0e6fe949",
            "4483ca1de4764269a292d09b41b72f4c"
          ]
        },
        "outputId": "06937934-d902-45b1-f852-5da2c8223f71"
      },
      "source": [
        "######### Función Phi_2 ##############\n",
        "def psi_n(x,n):\n",
        "  Cn=(4*(6)**(0.5)*np.sin(n*np.pi/2))/((np.pi*n)**2)\n",
        "  Un=(2/L)**0.5*np.sin(n*np.pi*x/L)\n",
        "  return Cn*Un\n",
        "#Datos\n",
        "######### Función Phi_n interactiva ##############\n",
        "def Y_n(n):\n",
        "  Y=0\n",
        "  for i in range(1,n+1):\n",
        "    Y=Y+psi_n(z,i)\n",
        "######### Gráfica ##############\n",
        "  plt.figure(figsize=(7,4))\n",
        "  plt.plot(z,Y,'darkred',label='n ='+str(n))\n",
        "  plt.plot(z,psi(z),'k--', linewidth=4,label=r'$\\psi(x)$' )\n",
        "  plt.title('Partícula en una caja',fontsize=18)\n",
        "  plt.xlim(0,L)\n",
        "  plt.ylim(0,max(psi(z))+0.01)\n",
        "  plt.grid()\n",
        "  plt.legend()\n",
        "interact(Y_n,n=N)\n"
      ],
      "execution_count": 4,
      "outputs": [
        {
          "output_type": "display_data",
          "data": {
            "application/vnd.jupyter.widget-view+json": {
              "model_id": "525e5aa71a27489bbcd06d2a07bf97f2",
              "version_minor": 0,
              "version_major": 2
            },
            "text/plain": [
              "interactive(children=(Dropdown(description='n', options=(1, 5, 10, 20, 40), value=1), Output()), _dom_classes=…"
            ]
          },
          "metadata": {}
        },
        {
          "output_type": "execute_result",
          "data": {
            "text/plain": [
              "<function __main__.Y_n>"
            ]
          },
          "metadata": {},
          "execution_count": 4
        }
      ]
    },
    {
      "cell_type": "code",
      "metadata": {
        "id": "3OVFpRust0v9",
        "colab": {
          "base_uri": "https://localhost:8080/",
          "height": 286
        },
        "outputId": "e527b07e-3570-47e9-a6b9-490927d6a89b"
      },
      "source": [
        "\n",
        "######### Gráfica para diferentes n ##############\n",
        "plt.figure(figsize=(7,4))\n",
        "plt.plot(z,psi(z),'k',label=r'$\\Psi(x)$', linewidth=4 )\n",
        "for n in range(len(N)):\n",
        "   YY=0 \n",
        "   for i in range(1,N[n]+1):\n",
        "      YY=YY+psi_n(z,i)\n",
        "   \n",
        "   plt.plot(z,YY,color=Col[n],label='n ='+str(N[n]))\n",
        "   plt.title('Partícula en una caja',fontsize=18)\n",
        "   plt.xlim(0,L)\n",
        "   plt.ylim(0,max(psi(z))+0.01)\n",
        "   plt.grid()\n",
        "   plt.legend(loc='lower right')\n"
      ],
      "execution_count": 5,
      "outputs": [
        {
          "output_type": "display_data",
          "data": {
            "image/png": "[encoded data removed]",
            "text/plain": [
              "<Figure size 504x288 with 1 Axes>"
            ]
          },
          "metadata": {
            "needs_background": "light"
          }
        }
      ]
    },
    {
      "cell_type": "markdown",
      "metadata": {
        "id": "QO0YRf9G67FB"
      },
      "source": [
        "Tome ahora la función $\\phi(x)=Nx(L − x)$ (con $N$ el factor de norma) para el mismo\n",
        "problema. Normalice la función, calcule el valor medio de la energía $E=\\langle \\phi|ˆH |\\phi\\rangle$, comparando\n",
        "con la energía exacta y con la obtenida con la anterior \t$\\Psi(x)$ si puede. Determine\n",
        "nuevamente los coeficientes de expansión en la base de autofunciones y dibuje para $5$,$10$, $20$ y $40$ términos en el desarrollo. Comente sobre la convergencia del desarrollo en\n",
        "ambos casos."
      ]
    },
    {
      "cell_type": "code",
      "metadata": {
        "id": "gqbFEi9xAnlE",
        "colab": {
          "base_uri": "https://localhost:8080/",
          "height": 335,
          "referenced_widgets": [
            "d6d0b622ed414ba58ea699a11bf36bdd",
            "d4ef053f49584802805a7c711c6e8f96",
            "5158dbdfa5784cd7b57543c8bbe3ef4e",
            "30dc41e3cf0e418aa582fde0e4b7995a",
            "eea0bcb0af7f4feb9b1986ffc8a4eef9",
            "1d46c2f45424488488a5a09b6fc0e696",
            "49f07c5ca14443e3831a35c436e53ac7"
          ]
        },
        "outputId": "c1f5ccdb-1d57-4ccc-d627-552b696bcb89"
      },
      "source": [
        "######### Función Phi ##############\n",
        "def Phi_(x):\n",
        "  for i in range(len(x)):\n",
        "    if x[i]<0 or x[i]>L:\n",
        "      x[i]=0\n",
        "  N=(30/L**5)**0.5\n",
        "  return N*x*(L-x)\n",
        "######### Función Phi_n ##############\n",
        "def Phi_n(x,n):\n",
        "  Cn=4*15**0.5/(np.pi*n)**3*(1-(-1)**n)\n",
        "  Un=(2/L)**0.5*np.sin(n*np.pi*x/L)\n",
        "  return Cn*Un\n",
        "########### Gráfica interactiva de phi ##############\n",
        "def P_n(n):\n",
        "  Y=0\n",
        "  for i in range(1,n+1):\n",
        "    Y=Y+Phi_n(z,i)\n",
        "######### Gráfica ##############\n",
        "  plt.figure(figsize=(7,4))\n",
        "  plt.plot(z,Y,'*',color='darkred',label='n ='+str(n),linewidth=4 )\n",
        "  plt.plot(z,Phi_(z),'k',linewidth=2,label=r'$\\phi(x)=Nx(L-x)$' )\n",
        "  plt.title('Partícula en una caja',fontsize=18)\n",
        "  plt.xlim(0,L)\n",
        "  plt.ylim(0,max(Phi_(z))+0.01)\n",
        "  plt.grid()\n",
        "  plt.legend()\n",
        "interact(P_n,n=N)\n",
        "\n"
      ],
      "execution_count": 6,
      "outputs": [
        {
          "output_type": "display_data",
          "data": {
            "application/vnd.jupyter.widget-view+json": {
              "model_id": "d6d0b622ed414ba58ea699a11bf36bdd",
              "version_minor": 0,
              "version_major": 2
            },
            "text/plain": [
              "interactive(children=(Dropdown(description='n', options=(1, 5, 10, 20, 40), value=1), Output()), _dom_classes=…"
            ]
          },
          "metadata": {}
        },
        {
          "output_type": "execute_result",
          "data": {
            "text/plain": [
              "<function __main__.P_n>"
            ]
          },
          "metadata": {},
          "execution_count": 6
        }
      ]
    },
    {
      "cell_type": "code",
      "metadata": {
        "id": "xgv7P09K12mH",
        "colab": {
          "base_uri": "https://localhost:8080/",
          "height": 286
        },
        "outputId": "472de424-9b42-4d4a-e1c4-ec68f15a131b"
      },
      "source": [
        "\n",
        "######### Gráfica para diferentes n ##############\n",
        "plt.figure(figsize=(7,4))\n",
        "plt.plot(z,Phi_(z),'k',label=r'$\\Phi(x)$', linewidth=2 )\n",
        "for n in range(len(N)):\n",
        "   YY=0\n",
        "   \n",
        "   for i in range(1,N[n]+1):\n",
        "      YY=YY+Phi_n(z,i)\n",
        "   \n",
        "   plt.plot(z,YY,color=Col[-n],label='n ='+str(N[n]))\n",
        "   plt.title('Partícula en una caja',fontsize=18)\n",
        "   plt.xlim(0,L)\n",
        "   plt.ylim(0,max(Phi_(z))+0.01)\n",
        "   plt.grid()\n",
        "   plt.legend(loc='lower right')"
      ],
      "execution_count": 7,
      "outputs": [
        {
          "output_type": "display_data",
          "data": {
            "image/png": "[encoded data removed]",
            "text/plain": [
              "<Figure size 504x288 with 1 Axes>"
            ]
          },
          "metadata": {
            "needs_background": "light"
          }
        }
      ]
    },
    {
      "cell_type": "markdown",
      "metadata": {
        "id": "oq-JK7PW7yhk"
      },
      "source": [
        "Considere la familia de funcionales $\\Phi(m, x) = Nx^m(L − x)^m$, donde m es un número entero y $N$ es el factor de norma. Determine cuál es el valor óptimo del parámetro $m$ que minimiza el valor medio de la energía. Realice un gráfico de $E(m)$ $vs.$ $m$, indicando cómo compara con el valor exacto para el estado base o fundamental de la caja $(n=1)$."
      ]
    },
    {
      "cell_type": "code",
      "metadata": {
        "id": "6ZRyW9M_oW4m"
      },
      "source": [
        "from scipy.special import gamma, factorial\n",
        "###### para esta función es nmecesario especificar La cosntante de plank y la masa \n",
        "h=1\n",
        "M=1\n",
        "\"\"\" Función phi(x,m)\"\"\"\n",
        "\n",
        "def PHI_M(x,m):\n",
        "  N=gamma(4*m+2)*m/(gamma(2*m+1)**2*gamma(4*m))\n",
        "  Phi_m=(gamma(2*m)**2*m-(m-1)*gamma(2*m-1)*gamma(2*m+1))\n",
        "  return N*Phi_m "
      ],
      "execution_count": 8,
      "outputs": []
    },
    {
      "cell_type": "code",
      "metadata": {
        "id": "yS9aynVbpZnl",
        "colab": {
          "base_uri": "https://localhost:8080/"
        },
        "outputId": "5bcc3024-af2f-44c5-85c0-1b89cc6b36cf"
      },
      "source": [
        "m=np.linspace(0.5,L/10,30)\n",
        "#m=np.arange(1,L/5,1)\n",
        "rr=PHI_M(z,m) \n",
        "rr= rr[np.logical_not(np.isnan(rr))]\n",
        "PHI_M(z,1)\n",
        "print(r'El volalor de la energia es %f.2 h^2/l^2m'%PHI_M(z,1))\n"
      ],
      "execution_count": 9,
      "outputs": [
        {
          "output_type": "stream",
          "name": "stdout",
          "text": [
            "El volalor de la energia es 5.000000.2 h^2/l^2m\n"
          ]
        }
      ]
    },
    {
      "cell_type": "code",
      "metadata": {
        "id": "RcCEAoqj6ivQ",
        "colab": {
          "base_uri": "https://localhost:8080/",
          "height": 298
        },
        "outputId": "b29b6123-ef11-4171-baf6-3d8df430b302"
      },
      "source": [
        "plt.plot(m,rr,'*',color='darkgreen')\n",
        "plt.plot(z,z*0+rr[4],'k',label=r'$m_{min}=$'+str(np.round(m[4],2)))\n",
        "plt.plot(1.12,PHI_M(z,m[4]),'o',color='darkred',label=r'$E_{min}=$'+str(np.round(PHI_M(z,m[4]))))\n",
        "plt.title('E vs m')\n",
        "plt.xlim(0,5)\n",
        "plt.grid()\n",
        "plt.legend()"
      ],
      "execution_count": 10,
      "outputs": [
        {
          "output_type": "execute_result",
          "data": {
            "text/plain": [
              "<matplotlib.legend.Legend at 0x7f06f391eb50>"
            ]
          },
          "metadata": {},
          "execution_count": 10
        },
        {
          "output_type": "display_data",
          "data": {
            "image/png": "[encoded data removed]",
            "text/plain": [
              "<Figure size 432x288 with 1 Axes>"
            ]
          },
          "metadata": {
            "needs_background": "light"
          }
        }
      ]
    },
    {
      "cell_type": "markdown",
      "metadata": {
        "id": "-hbme3Lxn0vG"
      },
      "source": [
        "Proponga una forma funcional simple de una función de onda normalizada de tipo\n",
        "polinomial $p(x)$ que minimice la energía pero no para el estado fundamental, sino para\n",
        "el primer estado excitado de la caja $(n=2)$. Justifique su propuesta. Realice el cálculo de la energía para dicho estado propuesto y compruebe si el valor obtenido está por encima o por debajo del valor exacto para $n=2$."
      ]
    },
    {
      "cell_type": "code",
      "metadata": {
        "id": "hykdJuQDn0eQ"
      },
      "source": [
        "def p(x):\n",
        "  A=(210/L**3)**0.5\n",
        "  return (x-3*x**2/L+2*x**3/L**2)*A \n",
        "def y2(x,n,L):\n",
        "  return np.sqrt(2/L)*np.sin((n*np.pi*x)/L)"
      ],
      "execution_count": 11,
      "outputs": []
    },
    {
      "cell_type": "code",
      "metadata": {
        "id": "szjC66cToTD7",
        "colab": {
          "base_uri": "https://localhost:8080/",
          "height": 282
        },
        "outputId": "518fb7ac-f875-4f9c-f3ed-e39fcfafd99e"
      },
      "source": [
        "plt.plot(z,p(z),'k.', label=r'p(x)')\n",
        "plt.plot(z,y2(z,2,L),'--',color='olive',label=r'\\Psi(x)')\n",
        "plt.xlim(0,L)\n",
        "plt.grid()\n",
        "plt.legend()"
      ],
      "execution_count": 12,
      "outputs": [
        {
          "output_type": "execute_result",
          "data": {
            "text/plain": [
              "<matplotlib.legend.Legend at 0x7f06f24a69d0>"
            ]
          },
          "metadata": {},
          "execution_count": 12
        },
        {
          "output_type": "display_data",
          "data": {
            "image/png": "[encoded data removed]",
            "text/plain": [
              "<Figure size 432x288 with 1 Axes>"
            ]
          },
          "metadata": {
            "needs_background": "light"
          }
        }
      ]
    },
    {
      "cell_type": "markdown",
      "metadata": {
        "id": "MAa_l2qEC3hS"
      },
      "source": [
        "Usando la relación de cierre y la base de autofunciones de una partícula en una caja,\n",
        "construya sucesivas aproximaciones a la función delta de Dirac $\\delta(x−x_0)$ definida dentro\n",
        "de la caja $x_0 2 [0, L]$."
      ]
    },
    {
      "cell_type": "code",
      "metadata": {
        "id": "w3Fp-c4LtNkK"
      },
      "source": [
        "def delta(x,xp,n):\n",
        "  Cn=(2/L)**0.5*np.sin(n*np.pi*xp/L)\n",
        "  Un=(2/L)**0.5*np.sin(n*np.pi*x/L)\n",
        "  return Cn*Un\n",
        "  "
      ],
      "execution_count": 13,
      "outputs": []
    },
    {
      "cell_type": "code",
      "metadata": {
        "id": "O1LDw9TSuGKR",
        "colab": {
          "base_uri": "https://localhost:8080/",
          "height": 335,
          "referenced_widgets": [
            "b6321684d17148798c6f327a2790380a",
            "46d05a013dd34c6889fb619782d633c8",
            "70ac49428a584c79859090aa6d976a03",
            "1a27fb5d26094c34a7d05c6e811d5c58",
            "894a4b4662ee4ac6a18cc577c573b420",
            "482a18701b8043008900bfb7c978dc92",
            "b20840dd8ede46b6b120f7952518a252"
          ]
        },
        "outputId": "9070fece-ec78-4f7e-d61a-c8218e54b496"
      },
      "source": [
        "\"\"\"Datos\"\"\"\n",
        "xp=10\n",
        "def Delta_n(n):\n",
        "  Y=0\n",
        "  for i in range(1,n+1):\n",
        "    Y=Y+delta(z,xp,i)\n",
        "######### Gráfica ##############\n",
        "  plt.figure(figsize=(7,4))\n",
        "  plt.plot(z,Y,'darkred',label='n ='+str(n))\n",
        "  plt.title('Partícula en una caja',fontsize=18)\n",
        "  plt.xlim(0,+2*xp)\n",
        "  plt.grid()\n",
        "  plt.legend()\n",
        "interact(Delta_n,n=(1,200))"
      ],
      "execution_count": 14,
      "outputs": [
        {
          "output_type": "display_data",
          "data": {
            "application/vnd.jupyter.widget-view+json": {
              "model_id": "b6321684d17148798c6f327a2790380a",
              "version_minor": 0,
              "version_major": 2
            },
            "text/plain": [
              "interactive(children=(IntSlider(value=100, description='n', max=200, min=1), Output()), _dom_classes=('widget-…"
            ]
          },
          "metadata": {}
        },
        {
          "output_type": "execute_result",
          "data": {
            "text/plain": [
              "<function __main__.Delta_n>"
            ]
          },
          "metadata": {},
          "execution_count": 14
        }
      ]
    },
    {
      "cell_type": "code",
      "metadata": {
        "id": "VrHJenEv2zlY",
        "colab": {
          "base_uri": "https://localhost:8080/",
          "height": 335,
          "referenced_widgets": [
            "b30623943c2c4afaaddad95b7eb3f4b5",
            "35c772f4d97240619b096d7eff48b17a",
            "b9255e1740d84b17a5f738eb1bb4a3aa",
            "5de6ca8ea30e45b3ab2c6cc4a2eccf02",
            "5b8e77dde3174263928ca5b0cef0d1c4",
            "39a10ff9c05d4f20863f1139f62526f2",
            "cb86bee832754746ae78d873a787aa52"
          ]
        },
        "outputId": "020442f9-a4e8-439e-e355-76b1bed81aec"
      },
      "source": [
        "######### Gráfica para diferentes n ##############\n",
        "def rr(xp):\n",
        "  plt.figure(figsize=(7,4))\n",
        "  #plt.plot(z,psi(z),'k',label=r'$\\Psi(x)$', linewidth=4 )\n",
        "  for n in range(len(N)):\n",
        "    YY=0 \n",
        "    for i in range(1,N[n]+1):\n",
        "        YY=YY+delta(z,xp,i)\n",
        "    \n",
        "    plt.plot(z,YY,color=Col[n],label='n ='+str(N[n]))\n",
        "    plt.title('Partícula en una caja',fontsize=18)\n",
        "    plt.xlim(0,L)\n",
        "    #plt.ylim(0,max(psi(z))+0.01)\n",
        "    plt.grid()\n",
        "    plt.legend(loc='lower right')\n",
        "interact(rr,xp=(1,50))"
      ],
      "execution_count": 15,
      "outputs": [
        {
          "output_type": "display_data",
          "data": {
            "application/vnd.jupyter.widget-view+json": {
              "model_id": "b30623943c2c4afaaddad95b7eb3f4b5",
              "version_minor": 0,
              "version_major": 2
            },
            "text/plain": [
              "interactive(children=(IntSlider(value=25, description='xp', max=50, min=1), Output()), _dom_classes=('widget-i…"
            ]
          },
          "metadata": {}
        },
        {
          "output_type": "execute_result",
          "data": {
            "text/plain": [
              "<function __main__.rr>"
            ]
          },
          "metadata": {},
          "execution_count": 15
        }
      ]
    }
  ]
}