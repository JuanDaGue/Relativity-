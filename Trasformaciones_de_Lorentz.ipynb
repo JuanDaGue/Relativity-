{
  "nbformat": 4,
  "nbformat_minor": 0,
  "metadata": {
    "colab": {
      "name": "Trasformaciones de Lorentz.ipynb",
      "provenance": [],
      "authorship_tag": "ABX9TyPHNtZkonwdkqyHI9Sqa0sA",
      "include_colab_link": true
    },
    "kernelspec": {
      "name": "python3",
      "display_name": "Python 3"
    },
    "widgets": {
      "application/vnd.jupyter.widget-state+json": {
        "1eb9bf1115814cabb3641fda84493c1c": {
          "model_module": "@jupyter-widgets/controls",
          "model_name": "VBoxModel",
          "state": {
            "_view_name": "VBoxView",
            "_dom_classes": [
              "widget-interact"
            ],
            "_model_name": "VBoxModel",
            "_view_module": "@jupyter-widgets/controls",
            "_model_module_version": "1.5.0",
            "_view_count": null,
            "_view_module_version": "1.5.0",
            "box_style": "",
            "layout": "IPY_MODEL_20507c057480477ea002db3d94e8c8aa",
            "_model_module": "@jupyter-widgets/controls",
            "children": [
              "IPY_MODEL_ebce435db38f4f51b83d67613b47541f",
              "IPY_MODEL_66b216052eec4ef98e0ae42c0f30aa40",
              "IPY_MODEL_07eaf845bb79461597737220e972ff1c",
              "IPY_MODEL_3603fabc81fd4148a7531e754255eb3a",
              "IPY_MODEL_1de227afa7e24d9ebab058b726df5d7d"
            ]
          },
          "model_module_version": "1.5.0"
        },
        "20507c057480477ea002db3d94e8c8aa": {
          "model_module": "@jupyter-widgets/base",
          "model_name": "LayoutModel",
          "state": {
            "_view_name": "LayoutView",
            "grid_template_rows": null,
            "right": null,
            "justify_content": null,
            "_view_module": "@jupyter-widgets/base",
            "overflow": null,
            "_model_module_version": "1.2.0",
            "_view_count": null,
            "flex_flow": null,
            "width": null,
            "min_width": null,
            "border": null,
            "align_items": null,
            "bottom": null,
            "_model_module": "@jupyter-widgets/base",
            "top": null,
            "grid_column": null,
            "overflow_y": null,
            "overflow_x": null,
            "grid_auto_flow": null,
            "grid_area": null,
            "grid_template_columns": null,
            "flex": null,
            "_model_name": "LayoutModel",
            "justify_items": null,
            "grid_row": null,
            "max_height": null,
            "align_content": null,
            "visibility": null,
            "align_self": null,
            "height": null,
            "min_height": null,
            "padding": null,
            "grid_auto_rows": null,
            "grid_gap": null,
            "max_width": null,
            "order": null,
            "_view_module_version": "1.2.0",
            "grid_template_areas": null,
            "object_position": null,
            "object_fit": null,
            "grid_auto_columns": null,
            "margin": null,
            "display": null,
            "left": null
          },
          "model_module_version": "1.2.0"
        },
        "ebce435db38f4f51b83d67613b47541f": {
          "model_module": "@jupyter-widgets/controls",
          "model_name": "FloatSliderModel",
          "state": {
            "_view_name": "FloatSliderView",
            "style": "IPY_MODEL_bee3eb31e57944f8bfd4534517dd10b3",
            "_dom_classes": [],
            "description": "ux",
            "step": 0.01,
            "_model_name": "FloatSliderModel",
            "orientation": "horizontal",
            "max": 0.99,
            "_view_module": "@jupyter-widgets/controls",
            "_model_module_version": "1.5.0",
            "value": 0.001,
            "_view_count": null,
            "disabled": false,
            "_view_module_version": "1.5.0",
            "min": 0.001,
            "continuous_update": false,
            "readout_format": ".2f",
            "description_tooltip": null,
            "readout": true,
            "_model_module": "@jupyter-widgets/controls",
            "layout": "IPY_MODEL_594ce984ed9b4578a5586d9ad5fa278b"
          },
          "model_module_version": "1.5.0"
        },
        "66b216052eec4ef98e0ae42c0f30aa40": {
          "model_module": "@jupyter-widgets/controls",
          "model_name": "FloatSliderModel",
          "state": {
            "_view_name": "FloatSliderView",
            "style": "IPY_MODEL_a10ac1b9b8bb4802bba657dd3969a516",
            "_dom_classes": [],
            "description": "uy",
            "step": 0.01,
            "_model_name": "FloatSliderModel",
            "orientation": "horizontal",
            "max": 0.99,
            "_view_module": "@jupyter-widgets/controls",
            "_model_module_version": "1.5.0",
            "value": 0,
            "_view_count": null,
            "disabled": false,
            "_view_module_version": "1.5.0",
            "min": 0,
            "continuous_update": false,
            "readout_format": ".2f",
            "description_tooltip": null,
            "readout": true,
            "_model_module": "@jupyter-widgets/controls",
            "layout": "IPY_MODEL_b95623cffded42d69bdd3c89587c557f"
          },
          "model_module_version": "1.5.0"
        },
        "07eaf845bb79461597737220e972ff1c": {
          "model_module": "@jupyter-widgets/controls",
          "model_name": "FloatSliderModel",
          "state": {
            "_view_name": "FloatSliderView",
            "style": "IPY_MODEL_5d50272265e44fe184aa28d505d636dc",
            "_dom_classes": [],
            "description": "uz",
            "step": 0.01,
            "_model_name": "FloatSliderModel",
            "orientation": "horizontal",
            "max": 0.99,
            "_view_module": "@jupyter-widgets/controls",
            "_model_module_version": "1.5.0",
            "value": 0,
            "_view_count": null,
            "disabled": false,
            "_view_module_version": "1.5.0",
            "min": 0,
            "continuous_update": false,
            "readout_format": ".2f",
            "description_tooltip": null,
            "readout": true,
            "_model_module": "@jupyter-widgets/controls",
            "layout": "IPY_MODEL_f717885f992c4a0faa1c2723761e8f79"
          },
          "model_module_version": "1.5.0"
        },
        "3603fabc81fd4148a7531e754255eb3a": {
          "model_module": "@jupyter-widgets/controls",
          "model_name": "IntSliderModel",
          "state": {
            "_view_name": "IntSliderView",
            "style": "IPY_MODEL_b2e06997d7c7457090ca3b58334a3cd2",
            "_dom_classes": [],
            "description": "nticks",
            "step": 1,
            "_model_name": "IntSliderModel",
            "orientation": "horizontal",
            "max": 30,
            "_view_module": "@jupyter-widgets/controls",
            "_model_module_version": "1.5.0",
            "value": 10,
            "_view_count": null,
            "disabled": false,
            "_view_module_version": "1.5.0",
            "min": -10,
            "continuous_update": true,
            "readout_format": "d",
            "description_tooltip": null,
            "readout": true,
            "_model_module": "@jupyter-widgets/controls",
            "layout": "IPY_MODEL_3ab0f23686e740fea9cbac229015e01f"
          },
          "model_module_version": "1.5.0"
        },
        "1de227afa7e24d9ebab058b726df5d7d": {
          "model_module": "@jupyter-widgets/output",
          "model_name": "OutputModel",
          "state": {
            "_view_name": "OutputView",
            "msg_id": "",
            "_dom_classes": [],
            "_model_name": "OutputModel",
            "outputs": [
              {
                "output_type": "display_data",
                "metadata": {
                  "tags": [],
                  "needs_background": "light"
                },
                "image/png": "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\n",
                "text/plain": "<Figure size 360x360 with 1 Axes>"
              }
            ],
            "_view_module": "@jupyter-widgets/output",
            "_model_module_version": "1.0.0",
            "_view_count": null,
            "_view_module_version": "1.0.0",
            "layout": "IPY_MODEL_a4ec76ea90754689b2ffc1ba674e84d6",
            "_model_module": "@jupyter-widgets/output"
          },
          "model_module_version": "1.0.0"
        },
        "bee3eb31e57944f8bfd4534517dd10b3": {
          "model_module": "@jupyter-widgets/controls",
          "model_name": "SliderStyleModel",
          "state": {
            "_view_name": "StyleView",
            "handle_color": null,
            "_model_name": "SliderStyleModel",
            "description_width": "",
            "_view_module": "@jupyter-widgets/base",
            "_model_module_version": "1.5.0",
            "_view_count": null,
            "_view_module_version": "1.2.0",
            "_model_module": "@jupyter-widgets/controls"
          },
          "model_module_version": "1.5.0"
        },
        "594ce984ed9b4578a5586d9ad5fa278b": {
          "model_module": "@jupyter-widgets/base",
          "model_name": "LayoutModel",
          "state": {
            "_view_name": "LayoutView",
            "grid_template_rows": null,
            "right": null,
            "justify_content": null,
            "_view_module": "@jupyter-widgets/base",
            "overflow": null,
            "_model_module_version": "1.2.0",
            "_view_count": null,
            "flex_flow": null,
            "width": null,
            "min_width": null,
            "border": null,
            "align_items": null,
            "bottom": null,
            "_model_module": "@jupyter-widgets/base",
            "top": null,
            "grid_column": null,
            "overflow_y": null,
            "overflow_x": null,
            "grid_auto_flow": null,
            "grid_area": null,
            "grid_template_columns": null,
            "flex": null,
            "_model_name": "LayoutModel",
            "justify_items": null,
            "grid_row": null,
            "max_height": null,
            "align_content": null,
            "visibility": null,
            "align_self": null,
            "height": null,
            "min_height": null,
            "padding": null,
            "grid_auto_rows": null,
            "grid_gap": null,
            "max_width": null,
            "order": null,
            "_view_module_version": "1.2.0",
            "grid_template_areas": null,
            "object_position": null,
            "object_fit": null,
            "grid_auto_columns": null,
            "margin": null,
            "display": null,
            "left": null
          },
          "model_module_version": "1.2.0"
        },
        "a10ac1b9b8bb4802bba657dd3969a516": {
          "model_module": "@jupyter-widgets/controls",
          "model_name": "SliderStyleModel",
          "state": {
            "_view_name": "StyleView",
            "handle_color": null,
            "_model_name": "SliderStyleModel",
            "description_width": "",
            "_view_module": "@jupyter-widgets/base",
            "_model_module_version": "1.5.0",
            "_view_count": null,
            "_view_module_version": "1.2.0",
            "_model_module": "@jupyter-widgets/controls"
          },
          "model_module_version": "1.5.0"
        },
        "b95623cffded42d69bdd3c89587c557f": {
          "model_module": "@jupyter-widgets/base",
          "model_name": "LayoutModel",
          "state": {
            "_view_name": "LayoutView",
            "grid_template_rows": null,
            "right": null,
            "justify_content": null,
            "_view_module": "@jupyter-widgets/base",
            "overflow": null,
            "_model_module_version": "1.2.0",
            "_view_count": null,
            "flex_flow": null,
            "width": null,
            "min_width": null,
            "border": null,
            "align_items": null,
            "bottom": null,
            "_model_module": "@jupyter-widgets/base",
            "top": null,
            "grid_column": null,
            "overflow_y": null,
            "overflow_x": null,
            "grid_auto_flow": null,
            "grid_area": null,
            "grid_template_columns": null,
            "flex": null,
            "_model_name": "LayoutModel",
            "justify_items": null,
            "grid_row": null,
            "max_height": null,
            "align_content": null,
            "visibility": null,
            "align_self": null,
            "height": null,
            "min_height": null,
            "padding": null,
            "grid_auto_rows": null,
            "grid_gap": null,
            "max_width": null,
            "order": null,
            "_view_module_version": "1.2.0",
            "grid_template_areas": null,
            "object_position": null,
            "object_fit": null,
            "grid_auto_columns": null,
            "margin": null,
            "display": null,
            "left": null
          },
          "model_module_version": "1.2.0"
        },
        "5d50272265e44fe184aa28d505d636dc": {
          "model_module": "@jupyter-widgets/controls",
          "model_name": "SliderStyleModel",
          "state": {
            "_view_name": "StyleView",
            "handle_color": null,
            "_model_name": "SliderStyleModel",
            "description_width": "",
            "_view_module": "@jupyter-widgets/base",
            "_model_module_version": "1.5.0",
            "_view_count": null,
            "_view_module_version": "1.2.0",
            "_model_module": "@jupyter-widgets/controls"
          },
          "model_module_version": "1.5.0"
        },
        "f717885f992c4a0faa1c2723761e8f79": {
          "model_module": "@jupyter-widgets/base",
          "model_name": "LayoutModel",
          "state": {
            "_view_name": "LayoutView",
            "grid_template_rows": null,
            "right": null,
            "justify_content": null,
            "_view_module": "@jupyter-widgets/base",
            "overflow": null,
            "_model_module_version": "1.2.0",
            "_view_count": null,
            "flex_flow": null,
            "width": null,
            "min_width": null,
            "border": null,
            "align_items": null,
            "bottom": null,
            "_model_module": "@jupyter-widgets/base",
            "top": null,
            "grid_column": null,
            "overflow_y": null,
            "overflow_x": null,
            "grid_auto_flow": null,
            "grid_area": null,
            "grid_template_columns": null,
            "flex": null,
            "_model_name": "LayoutModel",
            "justify_items": null,
            "grid_row": null,
            "max_height": null,
            "align_content": null,
            "visibility": null,
            "align_self": null,
            "height": null,
            "min_height": null,
            "padding": null,
            "grid_auto_rows": null,
            "grid_gap": null,
            "max_width": null,
            "order": null,
            "_view_module_version": "1.2.0",
            "grid_template_areas": null,
            "object_position": null,
            "object_fit": null,
            "grid_auto_columns": null,
            "margin": null,
            "display": null,
            "left": null
          },
          "model_module_version": "1.2.0"
        },
        "b2e06997d7c7457090ca3b58334a3cd2": {
          "model_module": "@jupyter-widgets/controls",
          "model_name": "SliderStyleModel",
          "state": {
            "_view_name": "StyleView",
            "handle_color": null,
            "_model_name": "SliderStyleModel",
            "description_width": "",
            "_view_module": "@jupyter-widgets/base",
            "_model_module_version": "1.5.0",
            "_view_count": null,
            "_view_module_version": "1.2.0",
            "_model_module": "@jupyter-widgets/controls"
          },
          "model_module_version": "1.5.0"
        },
        "3ab0f23686e740fea9cbac229015e01f": {
          "model_module": "@jupyter-widgets/base",
          "model_name": "LayoutModel",
          "state": {
            "_view_name": "LayoutView",
            "grid_template_rows": null,
            "right": null,
            "justify_content": null,
            "_view_module": "@jupyter-widgets/base",
            "overflow": null,
            "_model_module_version": "1.2.0",
            "_view_count": null,
            "flex_flow": null,
            "width": null,
            "min_width": null,
            "border": null,
            "align_items": null,
            "bottom": null,
            "_model_module": "@jupyter-widgets/base",
            "top": null,
            "grid_column": null,
            "overflow_y": null,
            "overflow_x": null,
            "grid_auto_flow": null,
            "grid_area": null,
            "grid_template_columns": null,
            "flex": null,
            "_model_name": "LayoutModel",
            "justify_items": null,
            "grid_row": null,
            "max_height": null,
            "align_content": null,
            "visibility": null,
            "align_self": null,
            "height": null,
            "min_height": null,
            "padding": null,
            "grid_auto_rows": null,
            "grid_gap": null,
            "max_width": null,
            "order": null,
            "_view_module_version": "1.2.0",
            "grid_template_areas": null,
            "object_position": null,
            "object_fit": null,
            "grid_auto_columns": null,
            "margin": null,
            "display": null,
            "left": null
          },
          "model_module_version": "1.2.0"
        },
        "a4ec76ea90754689b2ffc1ba674e84d6": {
          "model_module": "@jupyter-widgets/base",
          "model_name": "LayoutModel",
          "state": {
            "_view_name": "LayoutView",
            "grid_template_rows": null,
            "right": null,
            "justify_content": null,
            "_view_module": "@jupyter-widgets/base",
            "overflow": null,
            "_model_module_version": "1.2.0",
            "_view_count": null,
            "flex_flow": null,
            "width": null,
            "min_width": null,
            "border": null,
            "align_items": null,
            "bottom": null,
            "_model_module": "@jupyter-widgets/base",
            "top": null,
            "grid_column": null,
            "overflow_y": null,
            "overflow_x": null,
            "grid_auto_flow": null,
            "grid_area": null,
            "grid_template_columns": null,
            "flex": null,
            "_model_name": "LayoutModel",
            "justify_items": null,
            "grid_row": null,
            "max_height": null,
            "align_content": null,
            "visibility": null,
            "align_self": null,
            "height": null,
            "min_height": null,
            "padding": null,
            "grid_auto_rows": null,
            "grid_gap": null,
            "max_width": null,
            "order": null,
            "_view_module_version": "1.2.0",
            "grid_template_areas": null,
            "object_position": null,
            "object_fit": null,
            "grid_auto_columns": null,
            "margin": null,
            "display": null,
            "left": null
          },
          "model_module_version": "1.2.0"
        },
        "4b7b101fd1cf4be0915632869b729f27": {
          "model_module": "@jupyter-widgets/controls",
          "model_name": "VBoxModel",
          "state": {
            "_view_name": "VBoxView",
            "_dom_classes": [
              "widget-interact"
            ],
            "_model_name": "VBoxModel",
            "_view_module": "@jupyter-widgets/controls",
            "_model_module_version": "1.5.0",
            "_view_count": null,
            "_view_module_version": "1.5.0",
            "box_style": "",
            "layout": "IPY_MODEL_52f08de8268a423a925cc8dfaa2d5478",
            "_model_module": "@jupyter-widgets/controls",
            "children": [
              "IPY_MODEL_da3ef29dca6c40b4bc1b9f42bbb45045",
              "IPY_MODEL_39421eb187fb49c0b9377788604815f5",
              "IPY_MODEL_486a325fd801449ba9c2f66af987a931",
              "IPY_MODEL_0410b933df6e48c28b3ac980580a44dc",
              "IPY_MODEL_e8db787796084231a7b4a67ec88a1570",
              "IPY_MODEL_2680635565944be0bf9702296bb678f1"
            ]
          },
          "model_module_version": "1.5.0"
        },
        "52f08de8268a423a925cc8dfaa2d5478": {
          "model_module": "@jupyter-widgets/base",
          "model_name": "LayoutModel",
          "state": {
            "_view_name": "LayoutView",
            "grid_template_rows": null,
            "right": null,
            "justify_content": null,
            "_view_module": "@jupyter-widgets/base",
            "overflow": null,
            "_model_module_version": "1.2.0",
            "_view_count": null,
            "flex_flow": null,
            "width": null,
            "min_width": null,
            "border": null,
            "align_items": null,
            "bottom": null,
            "_model_module": "@jupyter-widgets/base",
            "top": null,
            "grid_column": null,
            "overflow_y": null,
            "overflow_x": null,
            "grid_auto_flow": null,
            "grid_area": null,
            "grid_template_columns": null,
            "flex": null,
            "_model_name": "LayoutModel",
            "justify_items": null,
            "grid_row": null,
            "max_height": null,
            "align_content": null,
            "visibility": null,
            "align_self": null,
            "height": null,
            "min_height": null,
            "padding": null,
            "grid_auto_rows": null,
            "grid_gap": null,
            "max_width": null,
            "order": null,
            "_view_module_version": "1.2.0",
            "grid_template_areas": null,
            "object_position": null,
            "object_fit": null,
            "grid_auto_columns": null,
            "margin": null,
            "display": null,
            "left": null
          },
          "model_module_version": "1.2.0"
        },
        "da3ef29dca6c40b4bc1b9f42bbb45045": {
          "model_module": "@jupyter-widgets/controls",
          "model_name": "IntSliderModel",
          "state": {
            "_view_name": "IntSliderView",
            "style": "IPY_MODEL_20a968c380d94db78c2eeb31835db4d3",
            "_dom_classes": [],
            "description": "size",
            "step": 1,
            "_model_name": "IntSliderModel",
            "orientation": "horizontal",
            "max": 300,
            "_view_module": "@jupyter-widgets/controls",
            "_model_module_version": "1.5.0",
            "value": 100,
            "_view_count": null,
            "disabled": false,
            "_view_module_version": "1.5.0",
            "min": -100,
            "continuous_update": true,
            "readout_format": "d",
            "description_tooltip": null,
            "readout": true,
            "_model_module": "@jupyter-widgets/controls",
            "layout": "IPY_MODEL_548ff6b9b2734d7fa81b761bb113a111"
          },
          "model_module_version": "1.5.0"
        },
        "39421eb187fb49c0b9377788604815f5": {
          "model_module": "@jupyter-widgets/controls",
          "model_name": "IntSliderModel",
          "state": {
            "_view_name": "IntSliderView",
            "style": "IPY_MODEL_871c6ad794f740139080aba4942dc530",
            "_dom_classes": [],
            "description": "bins",
            "step": 1,
            "_model_name": "IntSliderModel",
            "orientation": "horizontal",
            "max": 30,
            "_view_module": "@jupyter-widgets/controls",
            "_model_module_version": "1.5.0",
            "value": 10,
            "_view_count": null,
            "disabled": false,
            "_view_module_version": "1.5.0",
            "min": -10,
            "continuous_update": true,
            "readout_format": "d",
            "description_tooltip": null,
            "readout": true,
            "_model_module": "@jupyter-widgets/controls",
            "layout": "IPY_MODEL_a5142cd972c24d6e9ed35226dd626f8b"
          },
          "model_module_version": "1.5.0"
        },
        "486a325fd801449ba9c2f66af987a931": {
          "model_module": "@jupyter-widgets/controls",
          "model_name": "IntSliderModel",
          "state": {
            "_view_name": "IntSliderView",
            "style": "IPY_MODEL_0e813c4aff0b4e72b72e55bd79ec6b33",
            "_dom_classes": [],
            "description": "loc",
            "step": 1,
            "_model_name": "IntSliderModel",
            "orientation": "horizontal",
            "max": 1,
            "_view_module": "@jupyter-widgets/controls",
            "_model_module_version": "1.5.0",
            "value": 0,
            "_view_count": null,
            "disabled": false,
            "_view_module_version": "1.5.0",
            "min": 0,
            "continuous_update": true,
            "readout_format": "d",
            "description_tooltip": null,
            "readout": true,
            "_model_module": "@jupyter-widgets/controls",
            "layout": "IPY_MODEL_3ae0d7ad1ea34feaa294b33de3a24cc1"
          },
          "model_module_version": "1.5.0"
        },
        "0410b933df6e48c28b3ac980580a44dc": {
          "model_module": "@jupyter-widgets/controls",
          "model_name": "IntSliderModel",
          "state": {
            "_view_name": "IntSliderView",
            "style": "IPY_MODEL_312eb30b24144bf9b9c83d06223758ab",
            "_dom_classes": [],
            "description": "scale",
            "step": 1,
            "_model_name": "IntSliderModel",
            "orientation": "horizontal",
            "max": 3,
            "_view_module": "@jupyter-widgets/controls",
            "_model_module_version": "1.5.0",
            "value": 1,
            "_view_count": null,
            "disabled": false,
            "_view_module_version": "1.5.0",
            "min": -1,
            "continuous_update": true,
            "readout_format": "d",
            "description_tooltip": null,
            "readout": true,
            "_model_module": "@jupyter-widgets/controls",
            "layout": "IPY_MODEL_1c72babd5a2a4387b64539cf9394d8fb"
          },
          "model_module_version": "1.5.0"
        },
        "e8db787796084231a7b4a67ec88a1570": {
          "model_module": "@jupyter-widgets/controls",
          "model_name": "TextModel",
          "state": {
            "_view_name": "TextView",
            "style": "IPY_MODEL_4c8dd8a86b9d4cf2b3d8fa670b6c693b",
            "_dom_classes": [],
            "description": "color",
            "_model_name": "TextModel",
            "placeholder": "​",
            "_view_module": "@jupyter-widgets/controls",
            "_model_module_version": "1.5.0",
            "value": "red",
            "_view_count": null,
            "disabled": false,
            "_view_module_version": "1.5.0",
            "continuous_update": true,
            "description_tooltip": null,
            "_model_module": "@jupyter-widgets/controls",
            "layout": "IPY_MODEL_7671e824665141cf9fda71b75f05572b"
          },
          "model_module_version": "1.5.0"
        },
        "2680635565944be0bf9702296bb678f1": {
          "model_module": "@jupyter-widgets/output",
          "model_name": "OutputModel",
          "state": {
            "_view_name": "OutputView",
            "msg_id": "",
            "_dom_classes": [],
            "_model_name": "OutputModel",
            "outputs": [
              {
                "output_type": "display_data",
                "metadata": {
                  "tags": [],
                  "needs_background": "light"
                },
                "image/png": "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\n",
                "text/plain": "<Figure size 432x288 with 1 Axes>"
              }
            ],
            "_view_module": "@jupyter-widgets/output",
            "_model_module_version": "1.0.0",
            "_view_count": null,
            "_view_module_version": "1.0.0",
            "layout": "IPY_MODEL_0bb3f8f6e49246a2a798df3be5334358",
            "_model_module": "@jupyter-widgets/output"
          },
          "model_module_version": "1.0.0"
        },
        "20a968c380d94db78c2eeb31835db4d3": {
          "model_module": "@jupyter-widgets/controls",
          "model_name": "SliderStyleModel",
          "state": {
            "_view_name": "StyleView",
            "handle_color": null,
            "_model_name": "SliderStyleModel",
            "description_width": "",
            "_view_module": "@jupyter-widgets/base",
            "_model_module_version": "1.5.0",
            "_view_count": null,
            "_view_module_version": "1.2.0",
            "_model_module": "@jupyter-widgets/controls"
          },
          "model_module_version": "1.5.0"
        },
        "548ff6b9b2734d7fa81b761bb113a111": {
          "model_module": "@jupyter-widgets/base",
          "model_name": "LayoutModel",
          "state": {
            "_view_name": "LayoutView",
            "grid_template_rows": null,
            "right": null,
            "justify_content": null,
            "_view_module": "@jupyter-widgets/base",
            "overflow": null,
            "_model_module_version": "1.2.0",
            "_view_count": null,
            "flex_flow": null,
            "width": null,
            "min_width": null,
            "border": null,
            "align_items": null,
            "bottom": null,
            "_model_module": "@jupyter-widgets/base",
            "top": null,
            "grid_column": null,
            "overflow_y": null,
            "overflow_x": null,
            "grid_auto_flow": null,
            "grid_area": null,
            "grid_template_columns": null,
            "flex": null,
            "_model_name": "LayoutModel",
            "justify_items": null,
            "grid_row": null,
            "max_height": null,
            "align_content": null,
            "visibility": null,
            "align_self": null,
            "height": null,
            "min_height": null,
            "padding": null,
            "grid_auto_rows": null,
            "grid_gap": null,
            "max_width": null,
            "order": null,
            "_view_module_version": "1.2.0",
            "grid_template_areas": null,
            "object_position": null,
            "object_fit": null,
            "grid_auto_columns": null,
            "margin": null,
            "display": null,
            "left": null
          },
          "model_module_version": "1.2.0"
        },
        "871c6ad794f740139080aba4942dc530": {
          "model_module": "@jupyter-widgets/controls",
          "model_name": "SliderStyleModel",
          "state": {
            "_view_name": "StyleView",
            "handle_color": null,
            "_model_name": "SliderStyleModel",
            "description_width": "",
            "_view_module": "@jupyter-widgets/base",
            "_model_module_version": "1.5.0",
            "_view_count": null,
            "_view_module_version": "1.2.0",
            "_model_module": "@jupyter-widgets/controls"
          },
          "model_module_version": "1.5.0"
        },
        "a5142cd972c24d6e9ed35226dd626f8b": {
          "model_module": "@jupyter-widgets/base",
          "model_name": "LayoutModel",
          "state": {
            "_view_name": "LayoutView",
            "grid_template_rows": null,
            "right": null,
            "justify_content": null,
            "_view_module": "@jupyter-widgets/base",
            "overflow": null,
            "_model_module_version": "1.2.0",
            "_view_count": null,
            "flex_flow": null,
            "width": null,
            "min_width": null,
            "border": null,
            "align_items": null,
            "bottom": null,
            "_model_module": "@jupyter-widgets/base",
            "top": null,
            "grid_column": null,
            "overflow_y": null,
            "overflow_x": null,
            "grid_auto_flow": null,
            "grid_area": null,
            "grid_template_columns": null,
            "flex": null,
            "_model_name": "LayoutModel",
            "justify_items": null,
            "grid_row": null,
            "max_height": null,
            "align_content": null,
            "visibility": null,
            "align_self": null,
            "height": null,
            "min_height": null,
            "padding": null,
            "grid_auto_rows": null,
            "grid_gap": null,
            "max_width": null,
            "order": null,
            "_view_module_version": "1.2.0",
            "grid_template_areas": null,
            "object_position": null,
            "object_fit": null,
            "grid_auto_columns": null,
            "margin": null,
            "display": null,
            "left": null
          },
          "model_module_version": "1.2.0"
        },
        "0e813c4aff0b4e72b72e55bd79ec6b33": {
          "model_module": "@jupyter-widgets/controls",
          "model_name": "SliderStyleModel",
          "state": {
            "_view_name": "StyleView",
            "handle_color": null,
            "_model_name": "SliderStyleModel",
            "description_width": "",
            "_view_module": "@jupyter-widgets/base",
            "_model_module_version": "1.5.0",
            "_view_count": null,
            "_view_module_version": "1.2.0",
            "_model_module": "@jupyter-widgets/controls"
          },
          "model_module_version": "1.5.0"
        },
        "3ae0d7ad1ea34feaa294b33de3a24cc1": {
          "model_module": "@jupyter-widgets/base",
          "model_name": "LayoutModel",
          "state": {
            "_view_name": "LayoutView",
            "grid_template_rows": null,
            "right": null,
            "justify_content": null,
            "_view_module": "@jupyter-widgets/base",
            "overflow": null,
            "_model_module_version": "1.2.0",
            "_view_count": null,
            "flex_flow": null,
            "width": null,
            "min_width": null,
            "border": null,
            "align_items": null,
            "bottom": null,
            "_model_module": "@jupyter-widgets/base",
            "top": null,
            "grid_column": null,
            "overflow_y": null,
            "overflow_x": null,
            "grid_auto_flow": null,
            "grid_area": null,
            "grid_template_columns": null,
            "flex": null,
            "_model_name": "LayoutModel",
            "justify_items": null,
            "grid_row": null,
            "max_height": null,
            "align_content": null,
            "visibility": null,
            "align_self": null,
            "height": null,
            "min_height": null,
            "padding": null,
            "grid_auto_rows": null,
            "grid_gap": null,
            "max_width": null,
            "order": null,
            "_view_module_version": "1.2.0",
            "grid_template_areas": null,
            "object_position": null,
            "object_fit": null,
            "grid_auto_columns": null,
            "margin": null,
            "display": null,
            "left": null
          },
          "model_module_version": "1.2.0"
        },
        "312eb30b24144bf9b9c83d06223758ab": {
          "model_module": "@jupyter-widgets/controls",
          "model_name": "SliderStyleModel",
          "state": {
            "_view_name": "StyleView",
            "handle_color": null,
            "_model_name": "SliderStyleModel",
            "description_width": "",
            "_view_module": "@jupyter-widgets/base",
            "_model_module_version": "1.5.0",
            "_view_count": null,
            "_view_module_version": "1.2.0",
            "_model_module": "@jupyter-widgets/controls"
          },
          "model_module_version": "1.5.0"
        },
        "1c72babd5a2a4387b64539cf9394d8fb": {
          "model_module": "@jupyter-widgets/base",
          "model_name": "LayoutModel",
          "state": {
            "_view_name": "LayoutView",
            "grid_template_rows": null,
            "right": null,
            "justify_content": null,
            "_view_module": "@jupyter-widgets/base",
            "overflow": null,
            "_model_module_version": "1.2.0",
            "_view_count": null,
            "flex_flow": null,
            "width": null,
            "min_width": null,
            "border": null,
            "align_items": null,
            "bottom": null,
            "_model_module": "@jupyter-widgets/base",
            "top": null,
            "grid_column": null,
            "overflow_y": null,
            "overflow_x": null,
            "grid_auto_flow": null,
            "grid_area": null,
            "grid_template_columns": null,
            "flex": null,
            "_model_name": "LayoutModel",
            "justify_items": null,
            "grid_row": null,
            "max_height": null,
            "align_content": null,
            "visibility": null,
            "align_self": null,
            "height": null,
            "min_height": null,
            "padding": null,
            "grid_auto_rows": null,
            "grid_gap": null,
            "max_width": null,
            "order": null,
            "_view_module_version": "1.2.0",
            "grid_template_areas": null,
            "object_position": null,
            "object_fit": null,
            "grid_auto_columns": null,
            "margin": null,
            "display": null,
            "left": null
          },
          "model_module_version": "1.2.0"
        },
        "4c8dd8a86b9d4cf2b3d8fa670b6c693b": {
          "model_module": "@jupyter-widgets/controls",
          "model_name": "DescriptionStyleModel",
          "state": {
            "_view_name": "StyleView",
            "_model_name": "DescriptionStyleModel",
            "description_width": "",
            "_view_module": "@jupyter-widgets/base",
            "_model_module_version": "1.5.0",
            "_view_count": null,
            "_view_module_version": "1.2.0",
            "_model_module": "@jupyter-widgets/controls"
          },
          "model_module_version": "1.5.0"
        },
        "7671e824665141cf9fda71b75f05572b": {
          "model_module": "@jupyter-widgets/base",
          "model_name": "LayoutModel",
          "state": {
            "_view_name": "LayoutView",
            "grid_template_rows": null,
            "right": null,
            "justify_content": null,
            "_view_module": "@jupyter-widgets/base",
            "overflow": null,
            "_model_module_version": "1.2.0",
            "_view_count": null,
            "flex_flow": null,
            "width": null,
            "min_width": null,
            "border": null,
            "align_items": null,
            "bottom": null,
            "_model_module": "@jupyter-widgets/base",
            "top": null,
            "grid_column": null,
            "overflow_y": null,
            "overflow_x": null,
            "grid_auto_flow": null,
            "grid_area": null,
            "grid_template_columns": null,
            "flex": null,
            "_model_name": "LayoutModel",
            "justify_items": null,
            "grid_row": null,
            "max_height": null,
            "align_content": null,
            "visibility": null,
            "align_self": null,
            "height": null,
            "min_height": null,
            "padding": null,
            "grid_auto_rows": null,
            "grid_gap": null,
            "max_width": null,
            "order": null,
            "_view_module_version": "1.2.0",
            "grid_template_areas": null,
            "object_position": null,
            "object_fit": null,
            "grid_auto_columns": null,
            "margin": null,
            "display": null,
            "left": null
          },
          "model_module_version": "1.2.0"
        },
        "0bb3f8f6e49246a2a798df3be5334358": {
          "model_module": "@jupyter-widgets/base",
          "model_name": "LayoutModel",
          "state": {
            "_view_name": "LayoutView",
            "grid_template_rows": null,
            "right": null,
            "justify_content": null,
            "_view_module": "@jupyter-widgets/base",
            "overflow": null,
            "_model_module_version": "1.2.0",
            "_view_count": null,
            "flex_flow": null,
            "width": null,
            "min_width": null,
            "border": null,
            "align_items": null,
            "bottom": null,
            "_model_module": "@jupyter-widgets/base",
            "top": null,
            "grid_column": null,
            "overflow_y": null,
            "overflow_x": null,
            "grid_auto_flow": null,
            "grid_area": null,
            "grid_template_columns": null,
            "flex": null,
            "_model_name": "LayoutModel",
            "justify_items": null,
            "grid_row": null,
            "max_height": null,
            "align_content": null,
            "visibility": null,
            "align_self": null,
            "height": null,
            "min_height": null,
            "padding": null,
            "grid_auto_rows": null,
            "grid_gap": null,
            "max_width": null,
            "order": null,
            "_view_module_version": "1.2.0",
            "grid_template_areas": null,
            "object_position": null,
            "object_fit": null,
            "grid_auto_columns": null,
            "margin": null,
            "display": null,
            "left": null
          },
          "model_module_version": "1.2.0"
        },
        "c323e1d5a9634277bf529d1c37655fa4": {
          "model_module": "@jupyter-widgets/controls",
          "model_name": "VBoxModel",
          "state": {
            "_view_name": "VBoxView",
            "_dom_classes": [
              "widget-interact"
            ],
            "_model_name": "VBoxModel",
            "_view_module": "@jupyter-widgets/controls",
            "_model_module_version": "1.5.0",
            "_view_count": null,
            "_view_module_version": "1.5.0",
            "box_style": "",
            "layout": "IPY_MODEL_49daba2eaef349af8a7fecc56f4ab877",
            "_model_module": "@jupyter-widgets/controls",
            "children": [
              "IPY_MODEL_b6e03e0ebab742628b6da078d8ab8e49",
              "IPY_MODEL_8e2a850dca554956ab881bfcd12448cf",
              "IPY_MODEL_17a679cc18154b56b7ee3aadbe479d78"
            ]
          },
          "model_module_version": "1.5.0"
        },
        "49daba2eaef349af8a7fecc56f4ab877": {
          "model_module": "@jupyter-widgets/base",
          "model_name": "LayoutModel",
          "state": {
            "_view_name": "LayoutView",
            "grid_template_rows": null,
            "right": null,
            "justify_content": null,
            "_view_module": "@jupyter-widgets/base",
            "overflow": null,
            "_model_module_version": "1.2.0",
            "_view_count": null,
            "flex_flow": null,
            "width": null,
            "min_width": null,
            "border": null,
            "align_items": null,
            "bottom": null,
            "_model_module": "@jupyter-widgets/base",
            "top": null,
            "grid_column": null,
            "overflow_y": null,
            "overflow_x": null,
            "grid_auto_flow": null,
            "grid_area": null,
            "grid_template_columns": null,
            "flex": null,
            "_model_name": "LayoutModel",
            "justify_items": null,
            "grid_row": null,
            "max_height": null,
            "align_content": null,
            "visibility": null,
            "align_self": null,
            "height": null,
            "min_height": null,
            "padding": null,
            "grid_auto_rows": null,
            "grid_gap": null,
            "max_width": null,
            "order": null,
            "_view_module_version": "1.2.0",
            "grid_template_areas": null,
            "object_position": null,
            "object_fit": null,
            "grid_auto_columns": null,
            "margin": null,
            "display": null,
            "left": null
          },
          "model_module_version": "1.2.0"
        },
        "b6e03e0ebab742628b6da078d8ab8e49": {
          "model_module": "@jupyter-widgets/controls",
          "model_name": "FloatSliderModel",
          "state": {
            "_view_name": "FloatSliderView",
            "style": "IPY_MODEL_f47cae3c1f8d4744806f6c735313a440",
            "_dom_classes": [],
            "description": "n",
            "step": 2,
            "_model_name": "FloatSliderModel",
            "orientation": "horizontal",
            "max": 10,
            "_view_module": "@jupyter-widgets/controls",
            "_model_module_version": "1.5.0",
            "value": 0.001,
            "_view_count": null,
            "disabled": false,
            "_view_module_version": "1.5.0",
            "min": 0,
            "continuous_update": false,
            "readout_format": ".2f",
            "description_tooltip": null,
            "readout": true,
            "_model_module": "@jupyter-widgets/controls",
            "layout": "IPY_MODEL_29fb5b145bba4252a1b449966ecc9052"
          },
          "model_module_version": "1.5.0"
        },
        "8e2a850dca554956ab881bfcd12448cf": {
          "model_module": "@jupyter-widgets/controls",
          "model_name": "IntSliderModel",
          "state": {
            "_view_name": "IntSliderView",
            "style": "IPY_MODEL_10043e52e0414dcda6671e058de7a6ed",
            "_dom_classes": [],
            "description": "NT",
            "step": 10,
            "_model_name": "IntSliderModel",
            "orientation": "horizontal",
            "max": 100,
            "_view_module": "@jupyter-widgets/controls",
            "_model_module_version": "1.5.0",
            "value": 10,
            "_view_count": null,
            "disabled": false,
            "_view_module_version": "1.5.0",
            "min": 10,
            "continuous_update": true,
            "readout_format": "d",
            "description_tooltip": null,
            "readout": true,
            "_model_module": "@jupyter-widgets/controls",
            "layout": "IPY_MODEL_f0fc0c3c30ff424f92e3dd385facd589"
          },
          "model_module_version": "1.5.0"
        },
        "17a679cc18154b56b7ee3aadbe479d78": {
          "model_module": "@jupyter-widgets/output",
          "model_name": "OutputModel",
          "state": {
            "_view_name": "OutputView",
            "msg_id": "",
            "_dom_classes": [],
            "_model_name": "OutputModel",
            "outputs": [
              {
                "output_type": "display_data",
                "metadata": {
                  "tags": [],
                  "needs_background": "light"
                },
                "image/png": "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\n",
                "text/plain": "<Figure size 360x360 with 1 Axes>"
              }
            ],
            "_view_module": "@jupyter-widgets/output",
            "_model_module_version": "1.0.0",
            "_view_count": null,
            "_view_module_version": "1.0.0",
            "layout": "IPY_MODEL_39a436f7fe65459db95e2d8809551bf3",
            "_model_module": "@jupyter-widgets/output"
          },
          "model_module_version": "1.0.0"
        },
        "f47cae3c1f8d4744806f6c735313a440": {
          "model_module": "@jupyter-widgets/controls",
          "model_name": "SliderStyleModel",
          "state": {
            "_view_name": "StyleView",
            "handle_color": null,
            "_model_name": "SliderStyleModel",
            "description_width": "",
            "_view_module": "@jupyter-widgets/base",
            "_model_module_version": "1.5.0",
            "_view_count": null,
            "_view_module_version": "1.2.0",
            "_model_module": "@jupyter-widgets/controls"
          },
          "model_module_version": "1.5.0"
        },
        "29fb5b145bba4252a1b449966ecc9052": {
          "model_module": "@jupyter-widgets/base",
          "model_name": "LayoutModel",
          "state": {
            "_view_name": "LayoutView",
            "grid_template_rows": null,
            "right": null,
            "justify_content": null,
            "_view_module": "@jupyter-widgets/base",
            "overflow": null,
            "_model_module_version": "1.2.0",
            "_view_count": null,
            "flex_flow": null,
            "width": null,
            "min_width": null,
            "border": null,
            "align_items": null,
            "bottom": null,
            "_model_module": "@jupyter-widgets/base",
            "top": null,
            "grid_column": null,
            "overflow_y": null,
            "overflow_x": null,
            "grid_auto_flow": null,
            "grid_area": null,
            "grid_template_columns": null,
            "flex": null,
            "_model_name": "LayoutModel",
            "justify_items": null,
            "grid_row": null,
            "max_height": null,
            "align_content": null,
            "visibility": null,
            "align_self": null,
            "height": null,
            "min_height": null,
            "padding": null,
            "grid_auto_rows": null,
            "grid_gap": null,
            "max_width": null,
            "order": null,
            "_view_module_version": "1.2.0",
            "grid_template_areas": null,
            "object_position": null,
            "object_fit": null,
            "grid_auto_columns": null,
            "margin": null,
            "display": null,
            "left": null
          },
          "model_module_version": "1.2.0"
        },
        "10043e52e0414dcda6671e058de7a6ed": {
          "model_module": "@jupyter-widgets/controls",
          "model_name": "SliderStyleModel",
          "state": {
            "_view_name": "StyleView",
            "handle_color": null,
            "_model_name": "SliderStyleModel",
            "description_width": "",
            "_view_module": "@jupyter-widgets/base",
            "_model_module_version": "1.5.0",
            "_view_count": null,
            "_view_module_version": "1.2.0",
            "_model_module": "@jupyter-widgets/controls"
          },
          "model_module_version": "1.5.0"
        },
        "f0fc0c3c30ff424f92e3dd385facd589": {
          "model_module": "@jupyter-widgets/base",
          "model_name": "LayoutModel",
          "state": {
            "_view_name": "LayoutView",
            "grid_template_rows": null,
            "right": null,
            "justify_content": null,
            "_view_module": "@jupyter-widgets/base",
            "overflow": null,
            "_model_module_version": "1.2.0",
            "_view_count": null,
            "flex_flow": null,
            "width": null,
            "min_width": null,
            "border": null,
            "align_items": null,
            "bottom": null,
            "_model_module": "@jupyter-widgets/base",
            "top": null,
            "grid_column": null,
            "overflow_y": null,
            "overflow_x": null,
            "grid_auto_flow": null,
            "grid_area": null,
            "grid_template_columns": null,
            "flex": null,
            "_model_name": "LayoutModel",
            "justify_items": null,
            "grid_row": null,
            "max_height": null,
            "align_content": null,
            "visibility": null,
            "align_self": null,
            "height": null,
            "min_height": null,
            "padding": null,
            "grid_auto_rows": null,
            "grid_gap": null,
            "max_width": null,
            "order": null,
            "_view_module_version": "1.2.0",
            "grid_template_areas": null,
            "object_position": null,
            "object_fit": null,
            "grid_auto_columns": null,
            "margin": null,
            "display": null,
            "left": null
          },
          "model_module_version": "1.2.0"
        },
        "39a436f7fe65459db95e2d8809551bf3": {
          "model_module": "@jupyter-widgets/base",
          "model_name": "LayoutModel",
          "state": {
            "_view_name": "LayoutView",
            "grid_template_rows": null,
            "right": null,
            "justify_content": null,
            "_view_module": "@jupyter-widgets/base",
            "overflow": null,
            "_model_module_version": "1.2.0",
            "_view_count": null,
            "flex_flow": null,
            "width": null,
            "min_width": null,
            "border": null,
            "align_items": null,
            "bottom": null,
            "_model_module": "@jupyter-widgets/base",
            "top": null,
            "grid_column": null,
            "overflow_y": null,
            "overflow_x": null,
            "grid_auto_flow": null,
            "grid_area": null,
            "grid_template_columns": null,
            "flex": null,
            "_model_name": "LayoutModel",
            "justify_items": null,
            "grid_row": null,
            "max_height": null,
            "align_content": null,
            "visibility": null,
            "align_self": null,
            "height": null,
            "min_height": null,
            "padding": null,
            "grid_auto_rows": null,
            "grid_gap": null,
            "max_width": null,
            "order": null,
            "_view_module_version": "1.2.0",
            "grid_template_areas": null,
            "object_position": null,
            "object_fit": null,
            "grid_auto_columns": null,
            "margin": null,
            "display": null,
            "left": null
          },
          "model_module_version": "1.2.0"
        }
      }
    }
  },
  "cells": [
    {
      "cell_type": "markdown",
      "metadata": {
        "id": "view-in-github",
        "colab_type": "text"
      },
      "source": [
        "<a href=\"https://colab.research.google.com/github/JuanDaGue/Rlativity-/blob/main/Trasformaciones_de_Lorentz.ipynb\" target=\"_parent\"><img src=\"https://colab.research.google.com/assets/colab-badge.svg\" alt=\"Open In Colab\"/></a>"
      ]
    },
    {
      "cell_type": "markdown",
      "metadata": {
        "id": "2uwroKc2MAUM"
      },
      "source": [
        "#Relatividad"
      ]
    },
    {
      "cell_type": "markdown",
      "metadata": {
        "id": "eoKTVANKMARm"
      },
      "source": [
        "\n",
        "Notas y ejercicios\n",
        "\n"
      ]
    },
    {
      "cell_type": "code",
      "metadata": {
        "id": "wA6fKGFpL_U7",
        "outputId": "c8c29ce9-8dde-4276-cf47-7a88242e3500",
        "colab": {
          "base_uri": "https://localhost:8080/",
          "height": 275
        }
      },
      "source": [
        "from numpy import log10,sqrt,logspace \n",
        "us=logspace(log10(1e-5),log10(0.9999),1000) \n",
        "gammas=1/sqrt(1-us**2)-1 \n",
        "gamma_approx=us**2/2\n",
        "\n",
        "import matplotlib.pyplot as plt \n",
        "\n",
        "fig=plt.figure() \n",
        "ax=fig.gca()\n",
        "ax.plot(us,gammas,label='Exacto') \n",
        "ax.plot(us,gamma_approx,label='Aprox. binomial')\n",
        "\n",
        "ax.set_xscale(\"log\") \n",
        "ax.set_yscale(\"log\") \n",
        "ax.set_xlim((1e-5,1e0)) \n",
        "ax.set_ylim((1e-11,1e1))\n",
        "ax.set_label(r\"$u/c$\") \n",
        "ax.set_ylabel(r\"$\\gamma-1$\") \n",
        "ax.grid()\n"
      ],
      "execution_count": null,
      "outputs": [
        {
          "output_type": "display_data",
          "data": {
            "image/png": "[encoded data removed]",
            "text/plain": [
              "<Figure size 432x288 with 1 Axes>"
            ]
          },
          "metadata": {
            "tags": [],
            "needs_background": "light"
          }
        }
      ]
    },
    {
      "cell_type": "code",
      "metadata": {
        "id": "fHuF5USoMeNH"
      },
      "source": [
        "def Lambda_TLE(u): \n",
        "  from numpy import zeros \n",
        "  Lambda=zeros((4,4))\n",
        "  #Factor de Lorentz \n",
        "\n",
        "  umag=(u[0]**2+u[1]**2+u[2]**2)**0.5 \n",
        "  gamma=(1-umag**2)**(-0.5)\n",
        "  Lambda[0,0]=gamma \n",
        "  Lambda[0,1:]=-u*gamma \n",
        "  Lambda[1:,0]=-u*gamma \n",
        "  for i in range(1,4): \n",
        "    for j in range(1,4): \n",
        "      dij=0 \n",
        "      if i==j:dij=1 \n",
        "      Lambda[i,j]=dij+(gamma-1)*u[i-1]*u[j-1]/umag**2 \n",
        "      return Lambda\n"
      ],
      "execution_count": null,
      "outputs": []
    },
    {
      "cell_type": "code",
      "metadata": {
        "id": "zpjz7_UKMeLM"
      },
      "source": [
        "from numpy import array \n",
        "u=array([0.2,0.0,0.0]) \n",
        "Lambda=Lambda_TLE(-u)"
      ],
      "execution_count": null,
      "outputs": []
    },
    {
      "cell_type": "code",
      "metadata": {
        "id": "BasWMa_FOdi8",
        "outputId": "f6d2e9af-877d-4a22-fdad-1c9ab1f8efc3",
        "colab": {
          "base_uri": "https://localhost:8080/",
          "height": 369
        }
      },
      "source": [
        "#Escoge valores de x: \n",
        "\n",
        "from numpy import linspace \n",
        "rmax=10 \n",
        "xs=linspace(0,rmax,rmax+1,endpoint=True) \n",
        "ts=linspace(0,rmax,rmax+1,endpoint=True)\n",
        "\n",
        "#Calcula valores de t' y x' usando la matriz:\n",
        "\n",
        "from numpy import zeros_like \n",
        "tps=zeros_like(xs) \n",
        "xps=zeros_like(xs)\n",
        "\n",
        "from numpy import matmul\n",
        "import matplotlib.pyplot as plt \n",
        "fig=plt.figure(figsize=(5,5)) \n",
        "ax=fig.gca()\n",
        "for t in xs: \n",
        "  for i,x in enumerate(xs): \n",
        "    tps[i],xps[i],yp,zp=matmul(Lambda,[t,x,0,0]) \n",
        "  ax.plot(tps,xps,'r-')\n",
        "for x in xs:\n",
        "  for i,t in enumerate(ts): \n",
        "    tps[i],xps[i],yp,zp=matmul(Lambda,[t,x,0,0])\n",
        "  ax.plot(tps,xps,'r-')\n",
        "\n",
        "#Decoración\n",
        "\n",
        "ax.set_xticks(xs) \n",
        "ax.set_yticks(xs) \n",
        "ax.set_xlabel(\"$t$\") \n",
        "ax.set_ylabel(\"$x$\") \n",
        "ax.set_xlim((0,rmax)) \n",
        "ax.set_ylim((0,rmax))\n",
        "ax.grid() \n",
        "fig.tight_layout()"
      ],
      "execution_count": null,
      "outputs": [
        {
          "output_type": "display_data",
          "data": {
            "image/png": "[encoded data removed]",
            "text/plain": [
              "<Figure size 360x360 with 1 Axes>"
            ]
          },
          "metadata": {
            "tags": [],
            "needs_background": "light"
          }
        }
      ]
    },
    {
      "cell_type": "code",
      "metadata": {
        "id": "to8FlesgjQz5"
      },
      "source": [
        "\n",
        "def mapa_TLE(ux=0.0,uy=0.0,uz=0.0,\n",
        "             rmax=10,ngrid=10,nticks=10,\n",
        "             interact=False):\n",
        "    from numpy import array\n",
        "    u=array([ux,uy,uz])\n",
        "    Lambda=Lambda_TLE(-u)\n",
        "\n",
        "    #Escoge valores de x:\n",
        "    from numpy import linspace\n",
        "    xs=linspace(0,rmax,ngrid+1,endpoint=True)\n",
        "    ts=linspace(0,rmax,ngrid+1,endpoint=True)\n",
        "\n",
        "    #Calcula valores de t' y x' usando la matriz:\n",
        "    from numpy import zeros_like\n",
        "    tps=zeros_like(xs)\n",
        "    xps=zeros_like(xs)\n",
        "\n",
        "    from numpy import matmul\n",
        "\n",
        "    import matplotlib.pyplot as plt\n",
        "    fig=plt.figure(figsize=(5,5))\n",
        "    ax=fig.gca()\n",
        "\n",
        "    for t in xs:\n",
        "        for i,x in enumerate(xs):\n",
        "            tps[i],xps[i],yp,zp=matmul(Lambda,[t,x,0,0])\n",
        "        ax.plot(tps,xps,'r-',alpha=0.5)\n",
        "\n",
        "    for x in xs:\n",
        "        for i,t in enumerate(ts):\n",
        "            tps[i],xps[i],yp,zp=matmul(Lambda,[t,x,0,0])\n",
        "        ax.plot(tps,xps,'r-',alpha=0.5)\n",
        "\n",
        "    #Decoración\n",
        "    ax.set_xticks(linspace(0,rmax,nticks+1,endpoint=True))\n",
        "    ax.set_yticks(linspace(0,rmax,nticks+1,endpoint=True))\n",
        "    ax.set_xlabel(\"$t$\")\n",
        "    ax.set_ylabel(\"$x$\")\n",
        "    ax.set_xlim((0,rmax))\n",
        "    ax.set_ylim((0,rmax))\n",
        "    ax.grid()\n",
        "    fig.tight_layout()\n",
        "    if not interact:\n",
        "        return fig"
      ],
      "execution_count": null,
      "outputs": []
    },
    {
      "cell_type": "code",
      "metadata": {
        "id": "DbeRFY-GAnW4",
        "outputId": "8395afbe-ecc0-43a4-e3de-2f952cba4db7",
        "colab": {
          "base_uri": "https://localhost:8080/",
          "height": 497,
          "referenced_widgets": [
            "1eb9bf1115814cabb3641fda84493c1c",
            "20507c057480477ea002db3d94e8c8aa",
            "ebce435db38f4f51b83d67613b47541f",
            "66b216052eec4ef98e0ae42c0f30aa40",
            "07eaf845bb79461597737220e972ff1c",
            "3603fabc81fd4148a7531e754255eb3a",
            "1de227afa7e24d9ebab058b726df5d7d",
            "bee3eb31e57944f8bfd4534517dd10b3",
            "594ce984ed9b4578a5586d9ad5fa278b",
            "a10ac1b9b8bb4802bba657dd3969a516",
            "b95623cffded42d69bdd3c89587c557f",
            "5d50272265e44fe184aa28d505d636dc",
            "f717885f992c4a0faa1c2723761e8f79",
            "b2e06997d7c7457090ca3b58334a3cd2",
            "3ab0f23686e740fea9cbac229015e01f",
            "a4ec76ea90754689b2ffc1ba674e84d6"
          ]
        }
      },
      "source": [
        "from ipywidgets import interact,fixed,widgets\n",
        "opciones=dict(continuous_update=False)\n",
        "interact(mapa_TLE,\n",
        "         ux=widgets.FloatSlider(value=1e-3,min=1e-3,max=0.99,step=0.01,**opciones),\n",
        "         uy=widgets.FloatSlider(value=0.0,min=0.0,max=0.99,step=0.01,**opciones),\n",
        "         uz=widgets.FloatSlider(value=0.0,min=0.0,max=0.99,step=0.01,**opciones),\n",
        "         rmax=fixed(10),ngrid=fixed(10),interact=fixed(True)\n",
        "        );"
      ],
      "execution_count": null,
      "outputs": [
        {
          "output_type": "display_data",
          "data": {
            "application/vnd.jupyter.widget-view+json": {
              "model_id": "1eb9bf1115814cabb3641fda84493c1c",
              "version_minor": 0,
              "version_major": 2
            },
            "text/plain": [
              "interactive(children=(FloatSlider(value=0.001, continuous_update=False, description='ux', max=0.99, min=0.001,…"
            ]
          },
          "metadata": {
            "tags": []
          }
        }
      ]
    },
    {
      "cell_type": "code",
      "metadata": {
        "id": "pCdYt_itCz2k",
        "outputId": "56f5233f-5830-4aa6-a24b-815fe24282bb",
        "colab": {
          "base_uri": "https://localhost:8080/",
          "height": 34
        }
      },
      "source": [
        "xs"
      ],
      "execution_count": null,
      "outputs": [
        {
          "output_type": "execute_result",
          "data": {
            "text/plain": [
              "array([ 0.,  1.,  2.,  3.,  4.,  5.,  6.,  7.,  8.,  9., 10.])"
            ]
          },
          "metadata": {
            "tags": []
          },
          "execution_count": 7
        }
      ]
    },
    {
      "cell_type": "code",
      "metadata": {
        "id": "g13iwZB2erKo"
      },
      "source": [
        "#import matplotlib\n",
        "#matplotlib.use('nbagg')\n",
        "import numpy as np"
      ],
      "execution_count": null,
      "outputs": []
    },
    {
      "cell_type": "code",
      "metadata": {
        "id": "PpZS613-dlAR"
      },
      "source": [
        "\n",
        "from scipy.stats import norm\n",
        "def plot_function(size = 100, bins = 10, loc=0, scale=1, color='red'):\n",
        "    data = norm.rvs(size=size, loc=loc, scale=scale)\n",
        "    binwidth = (max(data) - min(data))/ bins\n",
        "    plt.hist(data, \n",
        "             bins=np.arange(min(data), max(data) + binwidth, binwidth),\n",
        "             color=color)\n"
      ],
      "execution_count": null,
      "outputs": []
    },
    {
      "cell_type": "code",
      "metadata": {
        "id": "xyiZYWGLdrwF",
        "outputId": "1b2fb42a-2246-49ff-e7ef-0f3e98e1b443",
        "colab": {
          "base_uri": "https://localhost:8080/",
          "height": 425,
          "referenced_widgets": [
            "4b7b101fd1cf4be0915632869b729f27",
            "52f08de8268a423a925cc8dfaa2d5478",
            "da3ef29dca6c40b4bc1b9f42bbb45045",
            "39421eb187fb49c0b9377788604815f5",
            "486a325fd801449ba9c2f66af987a931",
            "0410b933df6e48c28b3ac980580a44dc",
            "e8db787796084231a7b4a67ec88a1570",
            "2680635565944be0bf9702296bb678f1",
            "20a968c380d94db78c2eeb31835db4d3",
            "548ff6b9b2734d7fa81b761bb113a111",
            "871c6ad794f740139080aba4942dc530",
            "a5142cd972c24d6e9ed35226dd626f8b",
            "0e813c4aff0b4e72b72e55bd79ec6b33",
            "3ae0d7ad1ea34feaa294b33de3a24cc1",
            "312eb30b24144bf9b9c83d06223758ab",
            "1c72babd5a2a4387b64539cf9394d8fb",
            "4c8dd8a86b9d4cf2b3d8fa670b6c693b",
            "7671e824665141cf9fda71b75f05572b",
            "0bb3f8f6e49246a2a798df3be5334358"
          ]
        }
      },
      "source": [
        "from ipywidgets import interact \n",
        "interact(plot_function,)\n",
        "None\n",
        " "
      ],
      "execution_count": null,
      "outputs": [
        {
          "output_type": "display_data",
          "data": {
            "application/vnd.jupyter.widget-view+json": {
              "model_id": "4b7b101fd1cf4be0915632869b729f27",
              "version_minor": 0,
              "version_major": 2
            },
            "text/plain": [
              "interactive(children=(IntSlider(value=100, description='size', max=300, min=-100), IntSlider(value=10, descrip…"
            ]
          },
          "metadata": {
            "tags": []
          }
        }
      ]
    },
    {
      "cell_type": "code",
      "metadata": {
        "id": "SDFQ6JLGgtFQ",
        "outputId": "2e8cf368-0ee4-48d0-c28b-8482ccf33cf9",
        "colab": {
          "base_uri": "https://localhost:8080/",
          "height": 34
        }
      },
      "source": [
        "ngrid=5\n",
        "endpoint=4\n",
        "xs=linspace(0,rmax,ngrid+1,endpoint=True)\n",
        "xs"
      ],
      "execution_count": null,
      "outputs": [
        {
          "output_type": "execute_result",
          "data": {
            "text/plain": [
              "array([ 0.,  2.,  4.,  6.,  8., 10.])"
            ]
          },
          "metadata": {
            "tags": []
          },
          "execution_count": 11
        }
      ]
    },
    {
      "cell_type": "code",
      "metadata": {
        "id": "-g8qkpLUha-1"
      },
      "source": [
        "def sen(n=0.0,NT=10.0,interact=False):\n",
        "  x=np.linspace(0,2*np.pi,NT)\n",
        "  y=np.sin(n*x)\n",
        "  fig=plt.figure(figsize=(5,5))\n",
        "  ax=fig.gca()\n",
        "  ax.plot(x,y)\n",
        "  fig.tight_layout()\n",
        "  if not interact:\n",
        "        return fig\n",
        "\n",
        "\n",
        " \n"
      ],
      "execution_count": null,
      "outputs": []
    },
    {
      "cell_type": "code",
      "metadata": {
        "id": "nb9pgFP9kI9A",
        "outputId": "92c8f1c4-e323-48c4-8aa0-15c5c6556eb4",
        "colab": {
          "base_uri": "https://localhost:8080/",
          "height": 450,
          "referenced_widgets": [
            "c323e1d5a9634277bf529d1c37655fa4",
            "49daba2eaef349af8a7fecc56f4ab877",
            "b6e03e0ebab742628b6da078d8ab8e49",
            "8e2a850dca554956ab881bfcd12448cf",
            "17a679cc18154b56b7ee3aadbe479d78",
            "f47cae3c1f8d4744806f6c735313a440",
            "29fb5b145bba4252a1b449966ecc9052",
            "10043e52e0414dcda6671e058de7a6ed",
            "f0fc0c3c30ff424f92e3dd385facd589",
            "39a436f7fe65459db95e2d8809551bf3"
          ]
        }
      },
      "source": [
        "from ipywidgets import interact,fixed,widgets\n",
        "interact(sen,n=widgets.FloatSlider(value=1e-3,min=0,max=10,step=2,**opciones),NT=widgets.IntSlider(value=1e-3,min=10,max=100,step=10),interact=fixed(True))"
      ],
      "execution_count": null,
      "outputs": [
        {
          "output_type": "display_data",
          "data": {
            "application/vnd.jupyter.widget-view+json": {
              "model_id": "c323e1d5a9634277bf529d1c37655fa4",
              "version_minor": 0,
              "version_major": 2
            },
            "text/plain": [
              "interactive(children=(FloatSlider(value=0.001, continuous_update=False, description='n', max=10.0, step=2.0), …"
            ]
          },
          "metadata": {
            "tags": []
          }
        },
        {
          "output_type": "execute_result",
          "data": {
            "text/plain": [
              "<function __main__.sen>"
            ]
          },
          "metadata": {
            "tags": []
          },
          "execution_count": 13
        }
      ]
    },
    {
      "cell_type": "code",
      "metadata": {
        "id": "ewCoODdVpk9i"
      },
      "source": [
        ""
      ],
      "execution_count": null,
      "outputs": []
    },
    {
      "cell_type": "code",
      "metadata": {
        "id": "iGJmd5s-lMOH",
        "outputId": "1cfeadb8-bbf9-4c79-b49d-2ca5f117f581",
        "colab": {
          "base_uri": "https://localhost:8080/",
          "height": 34
        }
      },
      "source": [
        "opciones"
      ],
      "execution_count": null,
      "outputs": [
        {
          "output_type": "execute_result",
          "data": {
            "text/plain": [
              "{'continuous_update': False}"
            ]
          },
          "metadata": {
            "tags": []
          },
          "execution_count": 14
        }
      ]
    }
  ]
}